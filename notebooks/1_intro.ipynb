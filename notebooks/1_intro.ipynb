{
 "cells": [
  {
   "cell_type": "markdown",
   "metadata": {},
   "source": [
    "# sktime - A Unified Framework for Machine Learning with Time Series\n",
    "\n",
    "Tutorial at PyData Berlin 2022\n",
    "\n",
    "Find out more at: https://github.com/alan-turing-institute/sktime"
   ]
  },
  {
   "cell_type": "markdown",
   "metadata": {},
   "source": [
    "---\n",
    "\n",
    "### What is sktime?\n",
    "\n",
    "* scikit-learn like toolbox for learning with time series -> explained below\n",
    "* open source, permissive license, python package\n",
    "* openly governed, approx equal academia/industry/early career split\n",
    "    * 18 core developers\n",
    "    * community council\n",
    "* numfocus-affiliated, affiliated academic centers in UK (and expanding)\n",
    "\n",
    "**EVERYONE CAN JOIN! EVERYONE CAN BECOME A COMMUNITY LEADER!**\n",
    "\n",
    "* join our slack (developers) and discord (events)!\n",
    "    * regular **community collaboration sessions** and stand-ups on Fridays\n",
    "    * next **community onboarding event**: May 25 - 27\n",
    "    * next **developer sprint**: June 27 - July 1\n",
    "\n",
    "Opportunities:\n",
    "* UKRI grant at UEA, **maintainer job** soon to be advertised\n",
    "* sktime **mentoring programme**: github.com/sktime/mentoring\n",
    "* sktime is **Google Summer of Code 2022** org! Application deadline Apr 19\n"
   ]
  },
  {
   "cell_type": "markdown",
   "metadata": {},
   "source": [
    "---\n",
    "## Prelude: scikit-learn, the first scikit-learn-like toolbox\n",
    "\n",
    "### what makes a scikit-learn-like toolbox?\n",
    "\n",
    "* unified APIs and workflows (\"strategy pattern\")\n",
    "* composability, modular model building\n",
    "* openness - extensible, contributable\n",
    "\n",
    "Also see scikit-learn's [getting started guide](https://scikit-learn.org/stable/getting_started.html)!"
   ]
  },
  {
   "cell_type": "markdown",
   "metadata": {},
   "source": [
    "### Unified API\n",
    "\n",
    "1. Data specification\n",
    "2. Model specification\n",
    "3. Fitting\n",
    "4. Prediction\n",
    "5. Evaluation"
   ]
  },
  {
   "cell_type": "code",
   "execution_count": null,
   "metadata": {},
   "outputs": [],
   "source": [
    "# 1. data specification\n",
    "from sklearn.datasets import load_diabetes\n",
    "from sklearn.model_selection import train_test_split\n",
    "\n",
    "X, y = load_diabetes(return_X_y=True)\n",
    "\n",
    "X_train, X_test, y_train, y_test = train_test_split(X, y)\n",
    "print(X_train.shape, X_test.shape, y_train.shape, y_test.shape)"
   ]
  },
  {
   "cell_type": "code",
   "execution_count": null,
   "metadata": {},
   "outputs": [],
   "source": [
    "# 2. model specification\n",
    "from sklearn.ensemble import RandomForestRegressor\n",
    "from sklearn.metrics import mean_squared_error\n",
    "from sklearn.model_selection import train_test_split\n",
    "\n",
    "regressor = RandomForestRegressor(n_estimators=99)"
   ]
  },
  {
   "cell_type": "code",
   "execution_count": null,
   "metadata": {},
   "outputs": [],
   "source": [
    "# 3. model fitting\n",
    "regressor.fit(X_train, y_train)"
   ]
  },
  {
   "cell_type": "code",
   "execution_count": null,
   "metadata": {},
   "outputs": [],
   "source": [
    "# 4. prediction\n",
    "y_pred = regressor.predict(X_test)"
   ]
  },
  {
   "cell_type": "code",
   "execution_count": null,
   "metadata": {},
   "outputs": [],
   "source": [
    "# 5. evaluation and/or diagnostics\n",
    "mean_squared_error(y_test, y_pred)"
   ]
  },
  {
   "cell_type": "markdown",
   "metadata": {},
   "source": [
    "`regressor` could have been any regression model, e.g., `LinearRegression`\\\n",
    "nothing else changes! -> unified interface"
   ]
  },
  {
   "cell_type": "markdown",
   "metadata": {},
   "source": [
    "### Modular model building\n",
    "* Pipelining & transformers\n",
    "* Tuning\n",
    "* Ensembling"
   ]
  },
  {
   "cell_type": "code",
   "execution_count": null,
   "metadata": {},
   "outputs": [],
   "source": [
    "from sklearn.neighbors import KNeighborsRegressor\n",
    "from sklearn.pipeline import make_pipeline\n",
    "from sklearn.preprocessing import StandardScaler"
   ]
  },
  {
   "cell_type": "code",
   "execution_count": null,
   "metadata": {},
   "outputs": [],
   "source": [
    "pipeline = make_pipeline(StandardScaler(), KNeighborsRegressor())\n",
    "pipeline"
   ]
  },
  {
   "cell_type": "code",
   "execution_count": null,
   "metadata": {},
   "outputs": [],
   "source": [
    "pipeline.fit(X_train, y_train)\n",
    "y_pred = pipeline.predict(X_test)\n",
    "mean_squared_error(y_test, y_pred)"
   ]
  },
  {
   "cell_type": "markdown",
   "metadata": {},
   "source": [
    "### Summary\n",
    "\n",
    "* cross-sectional input data, without any assumed temporal dependency or ordering\n",
    "* three learning tasks: cross-sectional classification, regression and clustering \n",
    "* a common estimator API for each learning task \n",
    "* estimator APIs mirror learning tasks"
   ]
  },
  {
   "cell_type": "markdown",
   "metadata": {},
   "source": [
    "---\n",
    "## Introduction to Machine Learning with Time Series\n"
   ]
  },
  {
   "cell_type": "markdown",
   "metadata": {},
   "source": [
    "Check out our previous tutorial from PyData Berlin 2021: https://github.com/sktime/sktime-tutorial-pydata-berlin-2021"
   ]
  },
  {
   "cell_type": "markdown",
   "metadata": {},
   "source": [
    "### Multiple data formats"
   ]
  },
  {
   "cell_type": "code",
   "execution_count": null,
   "metadata": {},
   "outputs": [],
   "source": [
    "from sktime.datasets import load_lynx\n",
    "from sktime.utils.plotting import plot_series"
   ]
  },
  {
   "cell_type": "markdown",
   "metadata": {},
   "source": [
    "#### Univariate data\n",
    "> Repeated observations over time from a single variable or kind of measurement"
   ]
  },
  {
   "cell_type": "code",
   "execution_count": null,
   "metadata": {},
   "outputs": [],
   "source": [
    "y = load_lynx()\n",
    "plot_series(y)"
   ]
  },
  {
   "cell_type": "markdown",
   "metadata": {},
   "source": [
    "#### Multivariate data\n",
    "> Repeated observations over time from multiple related variables or kinds of measurement"
   ]
  },
  {
   "cell_type": "code",
   "execution_count": null,
   "metadata": {},
   "outputs": [],
   "source": [
    "from sktime.datasets import load_longley\n",
    "\n",
    "y, X = load_longley()\n",
    "\n",
    "plot_series(y)\n",
    "for column in X.columns[:2]:\n",
    "    x = X[column]\n",
    "    plot_series(x)"
   ]
  },
  {
   "cell_type": "markdown",
   "metadata": {},
   "source": [
    "#### Panel data\n",
    "> Repeated observations over time on multiple independent experimental units from one or more related variables or kinds of measurement"
   ]
  },
  {
   "cell_type": "code",
   "execution_count": null,
   "metadata": {},
   "outputs": [],
   "source": [
    "import numpy as np\n",
    "import matplotlib.pyplot as plt\n",
    "from sktime.datasets import load_arrow_head\n",
    "from sktime.datatypes import convert"
   ]
  },
  {
   "cell_type": "code",
   "execution_count": null,
   "metadata": {},
   "outputs": [],
   "source": [
    "X, y = load_arrow_head(return_X_y=True)\n",
    "X = convert(X, from_type=\"nested_univ\", to_type=\"numpy3D\")"
   ]
  },
  {
   "cell_type": "code",
   "execution_count": null,
   "metadata": {},
   "outputs": [],
   "source": [
    "labels, counts = np.unique(y, return_counts=True)\n",
    "fig, ax = plt.subplots(1, figsize=plt.figaspect(0.25))\n",
    "for label in labels:\n",
    "    ax.plot(X[y == label, 0, :][0], label=f\"class {label}\")\n",
    "ax.set(ylabel=\"Scaled distance from midpoint\", xlabel=\"Index\");"
   ]
  },
  {
   "cell_type": "markdown",
   "metadata": {},
   "source": [
    "### Multiple learning tasks\n",
    "\n",
    "For example:\n",
    "* Forecasting, variations:\n",
    "    * (vanilla) forecasting\n",
    "    * **panel forecasting**\n",
    "    * **global/hierarchical forecasting**\n",
    "    * univariate vs multivariate\n",
    "    * with or without exogeneous variables\n",
    "    * **point forecasts vs probabilistic forecasts**\n",
    "* Time Series Classification\n",
    "* Time Series Annotation (e.g. outlier detection)\n",
    "* Time Series Clustering"
   ]
  },
  {
   "cell_type": "markdown",
   "metadata": {},
   "source": [
    "### Reduction: From one learning task to another"
   ]
  },
  {
   "cell_type": "markdown",
   "metadata": {},
   "source": [
    "**Overview**\n",
    "\n",
    "<img src=\"img/reduction-relations.png\"/>\n",
    "\n",
    "**Example: From forecasting to regression** \n",
    "\n",
    "<img src=\"img/forecasting-to-regression-reduction.png\"/>"
   ]
  },
  {
   "cell_type": "markdown",
   "metadata": {},
   "source": [
    "### Creating a unified framework\n",
    "\n",
    "* time-series input data\n",
    "* multiple learning tasks: forecasting, time series classification and more \n",
    "* a common estimator API for each learning task\n",
    "* estimator APIs mirror learning tasks\n",
    "\n",
    "![](https://i.imgur.com/JGcclfB.png)"
   ]
  },
  {
   "cell_type": "markdown",
   "metadata": {},
   "source": [
    "**What's a framework?**\n",
    "\n",
    "Check out our [glossary of common terms](https://www.sktime.org/en/stable/glossary.html):\n",
    "\n",
    "> A collection of related and reusable software design templates that practitioners can copy and fill in. Frameworks emphasize design reuse. They capture common software design decisions within a given application domain and distill them into reusable design templates. This reduces the design decision they must take, allowing them to focus on application specifics. Not only can practitioners write software faster as a result, but applications will have a similar structure. Frameworks often offer additional functionality like toolboxes. Compare with toolbox and application.\n",
    "\n",
    "Check out our [extension templates](https://github.com/alan-turing-institute/sktime/tree/main/extension_templates)!"
   ]
  },
  {
   "cell_type": "markdown",
   "metadata": {},
   "source": [
    "![](https://i.imgur.com/HKSstog.png)\n",
    "\n"
   ]
  },
  {
   "cell_type": "markdown",
   "metadata": {},
   "source": [
    "---\n",
    "\n",
    "### Credits:\n",
    "\n",
    "notebook creation: mloning (based on 2021 pydata global), fkiraly (modification)\n",
    "\n",
    "sktime: https://github.com/alan-turing-institute/sktime/blob/main/CONTRIBUTORS.md"
   ]
  }
 ],
 "metadata": {
  "kernelspec": {
   "display_name": "Python 3 (ipykernel)",
   "language": "python",
   "name": "python3"
  },
  "language_info": {
   "codemirror_mode": {
    "name": "ipython",
    "version": 3
   },
   "file_extension": ".py",
   "mimetype": "text/x-python",
   "name": "python",
   "nbconvert_exporter": "python",
   "pygments_lexer": "ipython3",
   "version": "3.8.12"
  }
 },
 "nbformat": 4,
 "nbformat_minor": 4
}
