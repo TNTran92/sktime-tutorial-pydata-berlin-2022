{
 "cells": [
  {
   "cell_type": "markdown",
   "metadata": {},
   "source": [
    "# sktime - A Unified Framework for Machine Learning with Time Series\n",
    "\n",
    "Tutorial at the PyData Global 2021\n",
    "\n",
    "Find out more at: https://github.com/alan-turing-institute/sktime"
   ]
  },
  {
   "cell_type": "markdown",
   "metadata": {},
   "source": []
  },
  {
   "cell_type": "markdown",
   "metadata": {},
   "source": [
    "---\n",
    "## Hierarchical time series\n",
    "\n",
    "In typical business use cases, time series often present in hierarchical from.\n",
    "\n",
    "### Data\n",
    "\n",
    "<img src=\"./img/hierarchytree.png\" width=\"1200\" alt=\"arrow heads\">\n",
    "\n",
    "Examples include:\n",
    "* Product sales in different categories (e.g. M5 time series competition)\n",
    "* Tourism demand in different regions\n",
    "* Balance sheet structures across cost centers / accounts\n",
    "\n",
    "Many hierarchical time series datasets can be found here:\n",
    "https://forecastingdata.org/\n",
    "(SKTIME is working on a loader to easily access data in this repo)\n",
    "\n",
    "\n",
    "For literature see also:\n",
    "https://otexts.com/fpp2/hierarchical.html\n",
    "\n",
    "The above example shows a clean hierarchy tree leading from the top level strictly\n",
    "downwards to lower level branches. In practice, we can also often see a more complicated \n",
    "aggregation structure where the product hierarchy and the geographic hierarchy can \n",
    "both be used together. \n",
    "\n",
    "<img src=\"./img/hierarchytree_grouped.png\" width=\"1200\" alt=\"arrow heads\">\n",
    "\n",
    "\n",
    "# How does sktime represent hierarchical data?\n",
    "# General intro to sktime datatypes\n",
    "\n",
    "`sktime` provides modules for a number of time series related learning tasks.\n",
    "\n",
    "These modules use `sktime` specific in-memory (i.e., python workspace) representations for time series and related objects, most importantly individual time series and time series panels. `sktime`'s in-memory representations rely on `pandas` and `numpy`, with additional conventions on the `pandas` and `numpy` object.\n",
    "\n",
    "Users of `sktime` should be aware of these representations, since presenting the data in an `sktime` compatible representation is usually the first step in using any of the `sktime` modules.\n",
    "\n",
    "This notebook introduces the data types used in `sktime`, related functionality such as converters and validity checkers, and common workflows for loading and conversion:\n",
    "\n",
    "**Section 1** introduces in-memory data containers used in `sktime`, with examples.\n",
    "\n",
    "**Section 2** introduces validity checkers and conversion functionality for in-memory data containers.\n",
    "\n",
    "**Section 3** introduces common workflows to load data from file formats"
   ]
  },
  {
   "cell_type": "code",
   "execution_count": 1,
   "metadata": {},
   "outputs": [],
   "source": [
    "# import to retrieve examples\n",
    "from sktime.datatypes import get_examples"
   ]
  },
  {
   "cell_type": "markdown",
   "metadata": {},
   "source": [
    "### Section 1.1.1: Time series - the `\"pd.DataFrame\"` mtype\n",
    "\n",
    "In the `\"pd.DataFrame\"` mtype, time series are represented by an in-memory container `obj: pandas.DataFrame` as follows.\n",
    "\n",
    "* structure convention: `obj.index` must be monotonous, and one of `Int64Index`, `RangeIndex`, `DatetimeIndex`, `PeriodIndex`.\n",
    "* variables: columns of `obj` correspond to different variables\n",
    "* variable names: column names `obj.columns`\n",
    "* time points: rows of `obj` correspond to different, distinct time points\n",
    "* time index: `obj.index` is interpreted as a time index.\n",
    "* capabilities: can represent multivariate series; can represent unequally spaced series"
   ]
  },
  {
   "cell_type": "code",
   "execution_count": 3,
   "metadata": {},
   "outputs": [
    {
     "data": {
      "text/html": [
       "<div>\n",
       "<style scoped>\n",
       "    .dataframe tbody tr th:only-of-type {\n",
       "        vertical-align: middle;\n",
       "    }\n",
       "\n",
       "    .dataframe tbody tr th {\n",
       "        vertical-align: top;\n",
       "    }\n",
       "\n",
       "    .dataframe thead th {\n",
       "        text-align: right;\n",
       "    }\n",
       "</style>\n",
       "<table border=\"1\" class=\"dataframe\">\n",
       "  <thead>\n",
       "    <tr style=\"text-align: right;\">\n",
       "      <th></th>\n",
       "      <th>age</th>\n",
       "      <th>sex</th>\n",
       "      <th>bmi</th>\n",
       "      <th>bp</th>\n",
       "      <th>s1</th>\n",
       "      <th>s2</th>\n",
       "      <th>s3</th>\n",
       "      <th>s4</th>\n",
       "      <th>s5</th>\n",
       "      <th>s6</th>\n",
       "    </tr>\n",
       "  </thead>\n",
       "  <tbody>\n",
       "    <tr>\n",
       "      <th>0</th>\n",
       "      <td>0.038076</td>\n",
       "      <td>0.050680</td>\n",
       "      <td>0.061696</td>\n",
       "      <td>0.021872</td>\n",
       "      <td>-0.044223</td>\n",
       "      <td>-0.034821</td>\n",
       "      <td>-0.043401</td>\n",
       "      <td>-0.002592</td>\n",
       "      <td>0.019908</td>\n",
       "      <td>-0.017646</td>\n",
       "    </tr>\n",
       "    <tr>\n",
       "      <th>1</th>\n",
       "      <td>-0.001882</td>\n",
       "      <td>-0.044642</td>\n",
       "      <td>-0.051474</td>\n",
       "      <td>-0.026328</td>\n",
       "      <td>-0.008449</td>\n",
       "      <td>-0.019163</td>\n",
       "      <td>0.074412</td>\n",
       "      <td>-0.039493</td>\n",
       "      <td>-0.068330</td>\n",
       "      <td>-0.092204</td>\n",
       "    </tr>\n",
       "    <tr>\n",
       "      <th>2</th>\n",
       "      <td>0.085299</td>\n",
       "      <td>0.050680</td>\n",
       "      <td>0.044451</td>\n",
       "      <td>-0.005671</td>\n",
       "      <td>-0.045599</td>\n",
       "      <td>-0.034194</td>\n",
       "      <td>-0.032356</td>\n",
       "      <td>-0.002592</td>\n",
       "      <td>0.002864</td>\n",
       "      <td>-0.025930</td>\n",
       "    </tr>\n",
       "    <tr>\n",
       "      <th>3</th>\n",
       "      <td>-0.089063</td>\n",
       "      <td>-0.044642</td>\n",
       "      <td>-0.011595</td>\n",
       "      <td>-0.036656</td>\n",
       "      <td>0.012191</td>\n",
       "      <td>0.024991</td>\n",
       "      <td>-0.036038</td>\n",
       "      <td>0.034309</td>\n",
       "      <td>0.022692</td>\n",
       "      <td>-0.009362</td>\n",
       "    </tr>\n",
       "    <tr>\n",
       "      <th>4</th>\n",
       "      <td>0.005383</td>\n",
       "      <td>-0.044642</td>\n",
       "      <td>-0.036385</td>\n",
       "      <td>0.021872</td>\n",
       "      <td>0.003935</td>\n",
       "      <td>0.015596</td>\n",
       "      <td>0.008142</td>\n",
       "      <td>-0.002592</td>\n",
       "      <td>-0.031991</td>\n",
       "      <td>-0.046641</td>\n",
       "    </tr>\n",
       "  </tbody>\n",
       "</table>\n",
       "</div>"
      ],
      "text/plain": [
       "        age       sex       bmi        bp        s1        s2        s3  \\\n",
       "0  0.038076  0.050680  0.061696  0.021872 -0.044223 -0.034821 -0.043401   \n",
       "1 -0.001882 -0.044642 -0.051474 -0.026328 -0.008449 -0.019163  0.074412   \n",
       "2  0.085299  0.050680  0.044451 -0.005671 -0.045599 -0.034194 -0.032356   \n",
       "3 -0.089063 -0.044642 -0.011595 -0.036656  0.012191  0.024991 -0.036038   \n",
       "4  0.005383 -0.044642 -0.036385  0.021872  0.003935  0.015596  0.008142   \n",
       "\n",
       "         s4        s5        s6  \n",
       "0 -0.002592  0.019908 -0.017646  \n",
       "1 -0.039493 -0.068330 -0.092204  \n",
       "2 -0.002592  0.002864 -0.025930  \n",
       "3  0.034309  0.022692 -0.009362  \n",
       "4 -0.002592 -0.031991 -0.046641  "
      ]
     },
     "execution_count": 3,
     "metadata": {},
     "output_type": "execute_result"
    }
   ],
   "source": [
    "get_examples(mtype=\"pd.DataFrame\", as_scitype=\"Series\")[0]"
   ]
  },
  {
   "cell_type": "markdown",
   "metadata": {},
   "source": [
    "Example of a bivariate series in `\"pd.DataFrame\"` representation.\n",
    "This series has two variables, named `\"a\"` and `\"b\"`. Both are observed at the same four time points 0, 1, 2, 3."
   ]
  },
  {
   "cell_type": "markdown",
   "metadata": {},
   "source": [
    "### Workflow\n",
    "\n",
    "1. Model specification\n",
    "2. Fitting\n",
    "3. Prediction\n",
    "4. Evaluation"
   ]
  },
  {
   "cell_type": "code",
   "execution_count": 5,
   "metadata": {},
   "outputs": [],
   "source": [
    "get_examples(mtype=\"pd.DataFrame\", as_scitype=\"Series\")[1]"
   ]
  },
  {
   "cell_type": "markdown",
   "metadata": {},
   "source": [
    "### Section 1.2: Time series panels - the `\"Panel\"` scitype\n",
    "\n",
    "The major representations of time series panels in `sktime` are:\n",
    "\n",
    "* `\"pd-multiindex\"` - a `pandas.DataFrame`, with row multi-index (`instances`, `timepoints`), cols = variables\n",
    "* `\"numpy3D\"` - a 3D `np.ndarray`, with axis 0 = instances, axis 1 = variables, axis 2 = time points\n",
    "* `\"df-list\"` - a `list` of `pandas.DataFrame`, with list index = instances, data frame rows = time points, data frame cols = variables\n",
    "\n",
    "These representations are considered primary representations in `sktime` and are core to internal computations.\n",
    "\n",
    "There are further, minor representations of time series panels in `sktime`:\n",
    "\n",
    "* `\"nested_univ\"` - a `pandas.DataFrame`, with `pandas.Series` in cells. data frame rows = instances, data frame cols = variables, and series axis = time points\n",
    "* `\"numpyflat\"` - a 2D `np.ndarray` with rows = instances, and columns indexed by a pair index of (variables, time points). This format is only being converted to and cannot be converted from (since number of variables and time points may be ambiguous).\n",
    "* `\"pd-wide\"` - a `pandas.DataFrame` in wide format: has column multi-index (variables, time points), rows = instances; the \"variables\" index can be omitted for univariate time series\n",
    "* `\"pd-long\"` - a `pandas.DataFrame` in long format: has cols `instances`, `timepoints`, `variable`, `value`; entries in `value` are indexed by tuples of values in (`instances`, `timepoints`, `variable`).\n",
    "\n",
    "The minor representations are currently not fully consolidated in-code and are not discussed further below. Contributions are appreciated."
   ]
  },
  {
   "cell_type": "markdown",
   "metadata": {},
   "source": [
    "### Section 1.2.1: Time series panels - the `\"pd-multiindex\"` mtype\n",
    "\n",
    "In the `\"pd-multiindex\"` mtype, time series panels are represented by an in-memory container `obj: pandas.DataFrame` as follows.\n",
    "\n",
    "* structure convention: `obj.index` must be a pair multi-index of type `(RangeIndex, t)`, where `t` is one of `Int64Index`, `RangeIndex`, `DatetimeIndex`, `PeriodIndex` and monotonous. `obj.index` must have name `(\"instances\", \"timepoints\")`.\n",
    "* instances: rows with the same `\"instances\"` index correspond to the same instance; rows with different `\"instances\"` index correspond to different instances.\n",
    "* instance index: the first element of pairs in `obj.index` is interpreted as an instance index. \n",
    "* variables: columns of `obj` correspond to different variables\n",
    "* variable names: column names `obj.columns`\n",
    "* time points: rows of `obj` with the same `\"timepoints\"` index correspond correspond to the same time point; rows of `obj` with different `\"timepoints\"` index correspond correspond to the different time points.\n",
    "* time index: the second element of pairs in `obj.index` is interpreted as a time index. \n",
    "* capabilities: can represent panels of multivariate series; can represent unequally spaced series; can represent panels of unequally supported series; cannot represent panels of series with different sets of variables."
   ]
  },
  {
   "cell_type": "markdown",
   "metadata": {},
   "source": [
    "Example of a panel of multivariate series in `\"pd-multiindex\"` mtype representation.\n",
    "The panel contains three multivariate series, with instance indices 0, 1, 2. All series have two variables with names `\"var_0\"`, `\"var_1\"`. All series are observed at three time points 0, 1, 2."
   ]
  },
  {
   "cell_type": "code",
   "execution_count": 9,
   "metadata": {},
   "outputs": [
    {
     "data": {
      "text/plain": [
       "3297.433388288288"
      ]
     },
     "execution_count": 9,
     "metadata": {},
     "output_type": "execute_result"
    }
   ],
   "source": [
    "get_examples(mtype=\"pd-multiindex\", as_scitype=\"Panel\")[0]"
   ]
  },
  {
   "cell_type": "markdown",
   "metadata": {},
   "source": [
    "### Section 1.2.2: Hierarchical types\n",
    "* structure convention: `obj.index` must be a  multi-index of type `(RangeIndex, t)`, where `t` is one of `Int64Index`, `RangeIndex`, `DatetimeIndex`, `PeriodIndex` and monotonous. `obj.index` must multi column names, which the last column being `(\"\"timepoints\")`.\n",
    "* instances: rows with the same `\"instances\"` index correspond to the same instance; rows with different `\"instances\"` index correspond to different instances.\n",
    "* instance index: the first element of pairs in `obj.index` is interpreted as an instance index. \n",
    "* variables: columns of `obj` correspond to different variables\n",
    "* variable names: column names `obj.columns`\n",
    "* time points: rows of `obj` with the same `\"timepoints\"` index correspond correspond to the same time point; rows of `obj` with different `\"timepoints\"` index correspond correspond to the different time points.\n",
    "* time index: the second element of pairs in `obj.index` is interpreted as a time index. \n",
    "* capabilities: can represent panels of multivariate series; can represent unequally spaced series; can represent panels of unequally supported series; cannot represent panels of series with different sets of variables."
   ]
  },
  {
   "cell_type": "code",
   "execution_count": 12,
   "metadata": {},
   "outputs": [],
   "source": [
    "\"\"\"Example generation for testing.\n",
    "Example of two-dimensional hierarchy\n",
    "\"\"\"\n",
    "\n",
    "import pandas as pd\n",
    "\n",
    "###\n",
    "# example 0: multivariate, equally sampled\n",
    "\n",
    "cols = [\"instances_0\", \"instances_1\", \"timepoints\"] + [f\"var_{i}\" for i in range(2)]\n",
    "\n",
    "Xlist = [\n",
    "    pd.DataFrame(\n",
    "        [[\"a\", 0, 0, 1, 4], [\"a\", 0, 1, 2, 5], [\"a\", 0, 2, 3, 6]], columns=cols\n",
    "    ),\n",
    "    pd.DataFrame(\n",
    "        [[\"a\", 1, 0, 1, 4], [\"a\", 1, 1, 2, 55], [\"a\", 1, 2, 3, 6]], columns=cols\n",
    "    ),\n",
    "    pd.DataFrame(\n",
    "        [[\"a\", 2, 0, 1, 42], [\"a\", 2, 1, 2, 5], [\"a\", 2, 2, 3, 6]], columns=cols\n",
    "    ),\n",
    "    pd.DataFrame(\n",
    "        [[\"b\", 0, 0, 1, 4], [\"b\", 0, 1, 2, 5], [\"b\", 0, 2, 3, 6]], columns=cols\n",
    "    ),\n",
    "    pd.DataFrame(\n",
    "        [[\"b\", 1, 0, 1, 4], [\"b\", 1, 1, 2, 55], [\"b\", 1, 2, 3, 6]], columns=cols\n",
    "    ),\n",
    "    pd.DataFrame(\n",
    "        [[\"b\", 2, 0, 1, 42], [\"b\", 2, 1, 2, 5], [\"b\", 2, 2, 3, 6]], columns=cols\n",
    "    ),\n",
    "]\n",
    "\n",
    "X = pd.concat(Xlist)\n",
    "X = X.set_index([\"instances_0\", \"instances_1\", \"timepoints\"])\n"
   ]
  },
  {
   "cell_type": "code",
   "execution_count": 13,
   "metadata": {},
   "outputs": [
    {
     "data": {
      "text/plain": [
       "Int64Index([0, 1, 2, 0, 1, 2, 0, 1, 2, 0, 1, 2, 0, 1, 2, 0, 1, 2], dtype='int64', name='timepoints')"
      ]
     },
     "execution_count": 13,
     "metadata": {},
     "output_type": "execute_result"
    }
   ],
   "source": [
    "X.index.get_level_values(level=-1)"
   ]
  },
  {
   "cell_type": "markdown",
   "metadata": {},
   "source": [
    "### Hierarchical forecasting\n",
    "* data with hierarchical format can be forecast based on one of the different panel\n",
    "mtypes\n",
    "* forecasts that are generated this way are independent of each other\n",
    "* if we add up these forecasts, we get consistent forecasts that sum up across\n",
    "dimensions."
   ]
  },
  {
   "cell_type": "code",
   "execution_count": 16,
   "metadata": {},
   "outputs": [],
   "source": [
    "from sktime.datatypes import check_is_mtype, convert\n",
    "from sktime.forecasting.arima import ARIMA\n",
    "from sktime.utils._testing.hierarchical import _make_hierarchical\n",
    "from sktime.utils._testing.panel import _make_panel_X\n",
    "n_instances = 10\n",
    "PANEL_MTYPES = [\"pd-multiindex\", \"nested_univ\", \"numpy3D\"]\n",
    "HIER_MTYPES = [\"pd_multiindex_hier\"]\n",
    "\n",
    "y = _make_panel_X(n_instances=n_instances, random_state=42)\n",
    "y = convert(y, from_type=\"nested_univ\", to_type=PANEL_MTYPES[0])\n",
    "\n",
    "y_pred = ARIMA().fit(y).predict([1, 2, 3])\n",
    "valid, _, metadata = check_is_mtype(y_pred, PANEL_MTYPES[0], return_metadata=True)"
   ]
  },
  {
   "cell_type": "markdown",
   "metadata": {},
   "source": [
    "### Hierarchical forecasting - challenges\n",
    "* The above approach is called \"bottom up reconciliation\"\n",
    "* There exist other reconciliation approaches \n"
   ]
  },
  {
   "cell_type": "markdown",
   "metadata": {},
   "source": [
    "## Global forecasting vs Univariate Forecasting\n",
    "\n",
    "\n",
    "<img src=\"./img/flow.png\" width=\"1200\" alt=\"arrow heads\">\n",
    "\n",
    "\"Many businesses nowadays rely on large quantities of time series data making time \n",
    "series forecasting an important research area. Global forecasting models [that] are trained\n",
    " **across sets of time series** have shown huge potential in providing accurate forecasts compared\n",
    " with the univariate forecasting models that work on isolated series.\"\n",
    "\n",
    "\n",
    "https://robjhyndman.com/publications/monash-forecasting-data/\n",
    "\n",
    " Why does global forecasting matter?\n",
    " * In practice, we often have time series of limited range\n",
    " * Estimation is difficult, and we cannot model complex dependencies\n",
    " * Assumption of global forecasting: We can observe the identical data generating process (DGP) multiple times\n",
    " * Non-identical DGPs can be fine too, as long as the degree of dissimilarity is captured by exogeneous information\n",
    " * Now we have much more information and can estimate more reliably and more complex models (caveat: unless complexity is purely driven by time dynamics)\n",
    " \n",
    "As a result of these advantages, global forecasting models have been very successful in competition, e.g.\n",
    "* Rossmann Store Sales\n",
    "* Walmart Sales in Stormy Weather\n",
    "* M5 competition\n",
    "\n",
    "Many business problems in practice are essentially global forecasting problem - often also reflecting hierarchical information (see above)\n",
    "* Product sales in different categories (e.g. M5 time series competition)\n",
    "* Balance sheet structures across cost centers / accounts\n",
    "* Dynamics of pandemics observed at different points in time\n",
    "\n",
    "Distinction to multivariate forecasting\n",
    "* Multivariate forecasting focuses on modeling interdependence between time series\n",
    "* Global can model interdependence, but focus lies on enhancing observation space\n",
    "\n",
    "Implementation in sktime\n",
    "* Multivariate forecasting models are supported in sktime via ? VAR...* \n",
    "* Global forecasting"
   ]
  },
  {
   "cell_type": "markdown",
   "metadata": {},
   "source": [
    "For the following example we will use the `\"pd-multiindex\"` representation of the `\"Panel\"` scitype discussed in Section 1.2. \n",
    "\n",
    "In that case, `\"instances\"` is the unique identifier for the individual time series, while `\"timepoints\"` captures the time index."
   ]
  },
  {
   "cell_type": "code",
   "execution_count": 1,
   "metadata": {},
   "outputs": [
    {
     "name": "stdout",
     "output_type": "stream",
     "text": [
      "                      var_0  var_1\n",
      "instances timepoints              \n",
      "0         0               1      4\n",
      "          1               2      5\n",
      "          2               3      6\n",
      "1         0               1      4\n",
      "          1               2     55\n",
      "          2               3      6\n",
      "2         0               1     42\n",
      "          1               2      5\n",
      "          2               3      6\n"
     ]
    }
   ],
   "source": [
    "# -*- coding: utf-8 -*-\n",
    "\"\"\"Test extraction of features across (shifted) windows.\"\"\"\n",
    "__author__ = [\"danbartl\"]\n",
    "\n",
    "import pandas as pd\n",
    "from sklearn.ensemble import RandomForestRegressor\n",
    "from sklearn.pipeline import make_pipeline\n",
    "\n",
    "from sktime.datasets import load_airline\n",
    "from sktime.datatypes import get_examples\n",
    "from sktime.forecasting.compose import make_reduction\n",
    "from sktime.forecasting.model_selection import temporal_train_test_split\n",
    "from sktime.transformations.series.summarize import WindowSummarizer\n",
    "from sktime.utils.estimator_checks import check_estimator\n",
    "\n",
    "# Load data that will be the basis of tests\n",
    "y = load_airline()\n",
    "y_multi = get_examples(mtype=\"pd-multiindex\", as_scitype=\"Panel\")[0]\n",
    "print(y_multi)"
   ]
  },
  {
   "cell_type": "markdown",
   "metadata": {},
   "source": [
    "We can split into test and train set using temporal_train_test_split"
   ]
  },
  {
   "cell_type": "markdown",
   "metadata": {},
   "source": [
    "In univariate forecasting, tree based models often do not have have been shown to be great candidates for global forecasting. \n",
    "Often, not enough data is available to reliably train the abundance of hyperparameters in tree based models. \n",
    "This is typically not true for global forecasting models, so the advantages of those models - being able to exploit non-linear relationship  / dependence between and within time series and covariates can begin to shine.\n",
    "\n",
    "SKTIME supports all major Python implementations of tree based models. In this example we will use a Random Forest Regressor."
   ]
  },
  {
   "cell_type": "code",
   "execution_count": null,
   "metadata": {},
   "outputs": [],
   "source": [
    "regressor = make_pipeline(\n",
    "    RandomForestRegressor(random_state=1),\n",
    ")"
   ]
  },
  {
   "cell_type": "markdown",
   "metadata": {},
   "source": [
    "However, one big caveat with tree based models is the fact they are not time series models per se and therefore out of the box do not understand concepts like autocorrelation. Therefore, we need to generate appropriate features that capture the dynamics of the time series. In sktime we have the transformer WindowSummarizer to capture that time dependence"
   ]
  },
  {
   "cell_type": "code",
   "execution_count": null,
   "metadata": {},
   "outputs": [],
   "source": [
    "#WindowSummarizer Intro"
   ]
  },
  {
   "cell_type": "markdown",
   "metadata": {},
   "source": [
    "Global forecasting models are often very performance and resource intensive. To address that, we have implemented an en-bloc approach in sktime to directly compute \n",
    "the relevant features in a parallel way. You can use that functionality by passing the WindowSummarizer as a transformer within our make_reduction function"
   ]
  },
  {
   "cell_type": "code",
   "execution_count": null,
   "metadata": {},
   "outputs": [],
   "source": [
    "#make_reduction intro"
   ]
  },
  {
   "cell_type": "code",
   "execution_count": null,
   "metadata": {},
   "outputs": [],
   "source": [
    "forecaster = make_reduction(\n",
    "    regressor,\n",
    "    scitype=\"tabular-regressor\",\n",
    "    transformers=[WindowSummarizer(**kwargs, n_jobs=1)],\n",
    "    window_length=None,\n",
    "    strategy=\"recursive\",\n",
    ")\n"
   ]
  },
  {
   "cell_type": "markdown",
   "metadata": {},
   "source": [
    "You can then use this forecaster just like you would continue for univariate forecasting"
   ]
  },
  {
   "cell_type": "code",
   "execution_count": null,
   "metadata": {},
   "outputs": [],
   "source": [
    "forecaster.fit(y_train, fh=[1, 2])\n",
    "y_pred2 = forecaster.predict(fh=[1, 2, 12])"
   ]
  },
  {
   "cell_type": "code",
   "execution_count": null,
   "metadata": {},
   "outputs": [],
   "source": [
    "### Forecasting Pi  peline\n",
    "    #How to chain \n",
    "    #Why does it makes sense"
   ]
  }
 ],
 "metadata": {
  "kernelspec": {
   "display_name": "Python 3 (ipykernel)",
   "language": "python",
   "name": "python3"
  },
  "language_info": {
   "codemirror_mode": {
    "name": "ipython",
    "version": 3
   },
   "file_extension": ".py",
   "mimetype": "text/x-python",
   "name": "python",
   "nbconvert_exporter": "python",
   "pygments_lexer": "ipython3",
   "version": "3.8.10"
  }
 },
 "nbformat": 4,
 "nbformat_minor": 4
}
