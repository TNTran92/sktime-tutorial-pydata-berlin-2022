{
 "cells": [
  {
   "cell_type": "markdown",
   "metadata": {},
   "source": [
    "# Hierarchical, Global, and Panel Forecasting with `sktime`"
   ]
  },
  {
   "cell_type": "markdown",
   "metadata": {},
   "source": [
    "### Overview of this notebook\n",
    "\n",
    "* introduction - hierarchical time series\n",
    "* hierarchical and panel data format in sktime\n",
    "* automated vectorization of forecasters and transformers\n",
    "* hierarchical reconciliation in sktime\n",
    "* hierarchical/global forecasting using summarization/reduction models, \"M5 winner\"\n",
    "* extender guide\n",
    "* contributor credits"
   ]
  },
  {
   "cell_type": "code",
   "execution_count": null,
   "metadata": {},
   "outputs": [],
   "source": [
    "import warnings\n",
    "warnings.filterwarnings('ignore')"
   ]
  },
  {
   "cell_type": "markdown",
   "metadata": {},
   "source": [
    "---\n",
    "## Hierarchical time series\n",
    "\n",
    "Time series are often present in \"hierarchical\" form, example:\n",
    "\n",
    "<img src=\"./img/hierarchytree.png\" width=\"1200\" alt=\"arrow heads\">\n",
    "\n",
    "Examples include:\n",
    "* Product sales in different categories (e.g. M5 time series competition)\n",
    "* Tourism demand in different regions\n",
    "* Balance sheet structures across cost centers / accounts\n",
    "\n",
    "Many hierarchical time series datasets can be found here:\n",
    "https://forecastingdata.org/\n",
    "(access loader in development)\n",
    "\n",
    "For literature see also:\n",
    "https://otexts.com/fpp2/hierarchical.html\n",
    "\n",
    "A time series can also exhibit multiple independent hierarchies:\n",
    "\n",
    "<img src=\"./img/hierarchytree_grouped.png\" width=\"1200\" alt=\"arrow heads\">"
   ]
  },
  {
   "cell_type": "markdown",
   "metadata": {},
   "source": [
    "---\n",
    "\n",
    "### Representation of hierarchical and panel datatypes\n",
    "\n",
    "`sktime` distinguishes as abstract scientific data types for time series (=\"scitypes\"):\n",
    "\n",
    "* `Series` type = one time series (uni or multivariate)\n",
    "* `Panel` type = collection of multiple time series, flat hierarchy\n",
    "* `Hierarchical` type = hierarchical collection of time series, as above\n",
    "\n",
    "Each scitype has multiple mtype representations.\n",
    "\n",
    "For simplicitly, we focus only on `pandas.DataFrame` based representations below."
   ]
  },
  {
   "cell_type": "code",
   "execution_count": null,
   "metadata": {},
   "outputs": [],
   "source": [
    "# import to retrieve examples\n",
    "\n",
    "from sktime.datatypes import get_examples"
   ]
  },
  {
   "cell_type": "markdown",
   "metadata": {},
   "source": [
    "#### Individual time series - `Series` scitype, `\"pd.DataFrame\"` mtype\n",
    "\n",
    "In the `\"pd.DataFrame\"` mtype, time series are represented by an in-memory container `obj: pandas.DataFrame` as follows.\n",
    "\n",
    "* structure convention: `obj.index` must be monotonous, and one of `Int64Index`, `RangeIndex`, `DatetimeIndex`, `PeriodIndex`.\n",
    "* variables: columns of `obj` correspond to different variables\n",
    "* variable names: column names `obj.columns`\n",
    "* time points: rows of `obj` correspond to different, distinct time points\n",
    "* time index: `obj.index` is interpreted as a time index.\n",
    "* capabilities: can represent multivariate series; can represent unequally spaced series"
   ]
  },
  {
   "cell_type": "markdown",
   "metadata": {},
   "source": [
    "Example of a univariate series in `\"pd.DataFrame\"` representation.\\\n",
    "This series has two variables, named `\"a\"` and `\"b\"`. Both are observed at the same four time points 0, 1, 2, 3."
   ]
  },
  {
   "cell_type": "code",
   "execution_count": null,
   "metadata": {},
   "outputs": [],
   "source": [
    "get_examples(mtype=\"pd.DataFrame\")[0]"
   ]
  },
  {
   "cell_type": "markdown",
   "metadata": {},
   "source": [
    "Example of a bivariate series in `\"pd.DataFrame\"` representation.\\\n",
    "This series has two variables, named `\"a\"` and `\"b\"`. Both are observed at the same four time points 0, 1, 2, 3."
   ]
  },
  {
   "cell_type": "code",
   "execution_count": null,
   "metadata": {},
   "outputs": [],
   "source": [
    "get_examples(mtype=\"pd.DataFrame\")[1]"
   ]
  },
  {
   "cell_type": "markdown",
   "metadata": {},
   "source": [
    "#### Panels (= flat collections) of time series - `Panel` scitype, `\"pd-multiindex\"` mtype\n",
    "\n",
    "In the `\"pd-multiindex\"` mtype, time series panels are represented by an in-memory container `obj: pandas.DataFrame` as follows.\n",
    "\n",
    "* structure convention: `obj.index` must be a pair multi-index of type `(RangeIndex, t)`, where `t` is one of `Int64Index`, `RangeIndex`, `DatetimeIndex`, `PeriodIndex` and monotonous.\n",
    "* instances: rows with the same `\"instances\"` index correspond to the same instance; rows with different `\"instances\"` index correspond to different instances.\n",
    "* instance index: the first element of pairs in `obj.index` is interpreted as an instance index. \n",
    "* variables: columns of `obj` correspond to different variables\n",
    "* variable names: column names `obj.columns`\n",
    "* time points: rows of `obj` with the same `\"timepoints\"` index correspond correspond to the same time point; rows of `obj` with different `\"timepoints\"` index correspond correspond to the different time points.\n",
    "* time index: the second element of pairs in `obj.index` is interpreted as a time index. \n",
    "* capabilities: can represent panels of multivariate series; can represent unequally spaced series; can represent panels of unequally supported series; cannot represent panels of series with different sets of variables."
   ]
  },
  {
   "cell_type": "markdown",
   "metadata": {},
   "source": [
    "Example of a panel of multivariate series in `\"pd-multiindex\"` mtype representation.\n",
    "The panel contains three multivariate series, with instance indices 0, 1, 2. All series have two variables with names `\"var_0\"`, `\"var_1\"`. All series are observed at three time points 0, 1, 2."
   ]
  },
  {
   "cell_type": "code",
   "execution_count": null,
   "metadata": {},
   "outputs": [],
   "source": [
    "get_examples(mtype=\"pd-multiindex\")[0]"
   ]
  },
  {
   "cell_type": "markdown",
   "metadata": {},
   "source": [
    "#### Hierarchical time series - `Hierarchical` scitype, `\"pd_multiindex_hier\"` mtype\n",
    "\n",
    "* structure convention: `obj.index` must be a 3 or more level multi-index of type `(RangeIndex, ..., RangeIndex, t)`, where `t` is one of `Int64Index`, `RangeIndex`, `DatetimeIndex`, `PeriodIndex` and monotonous. We call the last index the \"time-like\" index\n",
    "* hierarchy level: rows with the same non-time-like indices correspond to the same hierarchy unit; rows with different non-time-like index combination correspond to different hierarchy unit.\n",
    "* hierarchy: the non-time-like indices in `obj.index` are interpreted as a hierarchy identifying index. \n",
    "* variables: columns of `obj` correspond to different variables\n",
    "* variable names: column names `obj.columns`\n",
    "* time points: rows of `obj` with the same `\"timepoints\"` index correspond correspond to the same time point; rows of `obj` with different `\"timepoints\"` index correspond correspond to the different time points.\n",
    "* time index: the last element of tuples in `obj.index` is interpreted as a time index. \n",
    "* capabilities: can represent hierarchical series; can represent unequally spaced series; can represent unequally supported hierarchical series; cannot represent hierarchical series with different sets of variables."
   ]
  },
  {
   "cell_type": "code",
   "execution_count": null,
   "metadata": {},
   "outputs": [],
   "source": [
    "X = get_examples(mtype=\"pd_multiindex_hier\")[0]\n",
    "X"
   ]
  },
  {
   "cell_type": "code",
   "execution_count": null,
   "metadata": {},
   "outputs": [],
   "source": [
    "display(X.index.get_level_values(level=-1))"
   ]
  },
  {
   "cell_type": "markdown",
   "metadata": {},
   "source": [
    "### Hierarchical forecasting\n",
    "* data with hierarchical format can be forecast based on one of the different panel\n",
    "mtypes\n",
    "* forecasts that are generated this way are independent of each other\n",
    "* if we add up these forecasts, we get consistent forecasts that sum up across\n",
    "dimensions."
   ]
  },
  {
   "cell_type": "code",
   "execution_count": null,
   "metadata": {},
   "outputs": [],
   "source": [
    "from sktime.datatypes import check_is_mtype, convert\n",
    "from sktime.forecasting.arima import ARIMA\n",
    "from sktime.utils._testing.hierarchical import _make_hierarchical\n",
    "from sktime.utils._testing.panel import _make_panel_X\n",
    "n_instances = 10\n",
    "PANEL_MTYPES = [\"pd-multiindex\", \"nested_univ\", \"numpy3D\"]\n",
    "HIER_MTYPES = [\"pd_multiindex_hier\"]\n",
    "\n",
    "y = _make_panel_X(n_instances=n_instances, random_state=42)\n",
    "y = convert(y, from_type=\"nested_univ\", to_type=PANEL_MTYPES[0])\n",
    "\n",
    "y_pred = ARIMA().fit(y).predict([1, 2, 3])\n",
    "display(y_pred)"
   ]
  },
  {
   "cell_type": "markdown",
   "metadata": {},
   "source": [
    "### Why do we need hierarchical reconciliation\n",
    "\n",
    "forecast reconciliation = ensuring that linear hierarchy dependencies are met,\\\n",
    "e.g., \"sum of individual shop sales in Berlin must equal sum of total sales in Berlin\"\\\n",
    "requires hierarchical (or panel) data, usually involves totals\n",
    "\n",
    "**Bottom up reconciliation** works by producing only forecasts at the lowest level and then adding up to totals across all higher levels. \n",
    "\n",
    "    * Arguably the most simple of all algorithms to reconcile across hierarchies.\n",
    "    * Advantages: easy to implement\n",
    "    * Disadvantages: lower levels of hierarchy are prone to excess volatility. This excess volatility is aggregated up, often producing much less accurate top level forecasts.\n",
    "\n",
    "**Top down reconciliation** works by producing top level forecasts and breaking them down to  the lowest level based e.g. on relative proportions of those lower levels.\n",
    "\n",
    "    * Advantages: still easy to implement, top level is stable\n",
    "    * Disadvantages: peculiarities of lower levels of hierarchy ignored\n",
    "\n",
    "**Optimal forecast reconciliation** works by producing forecasts at all levels of the hierarchy and adjusting all of them in a way that seeks to minimize the forecast errors\n",
    "\n",
    "    * Advantages: often found to be most accurate implementation\n",
    "    * Disadvantages: more difficult to implement"
   ]
  },
  {
   "cell_type": "markdown",
   "metadata": {},
   "source": [
    "---\n",
    "\n",
    "### Hierarchical reconciliation"
   ]
  },
  {
   "cell_type": "markdown",
   "metadata": {},
   "source": [
    "sktime provides functionality for reconciliation:\n",
    "\n",
    "* data container convention for node-wise aggregates\n",
    "* functionality to compute node-wise aggregates - `Aggregator`\n",
    "* transformer implementing reconiliation logic - `Reconciler`"
   ]
  },
  {
   "cell_type": "markdown",
   "metadata": {},
   "source": [
    "#### The node-wise aggregate data format"
   ]
  },
  {
   "cell_type": "markdown",
   "metadata": {},
   "source": [
    "`sktime` uses a special case of the `pd_multiindex_hier` format to store node-wise aggregates:\n",
    "\n",
    "* a `__total` index element in an instance (non-time-like) level indicates summation over all instances below that level\n",
    "* the `__total` index element is reserved and cannot be used for anything else\n",
    "* entries below a `__total` index element are sums of entries over all other instances in the same levels where a `__total` element is found\n",
    "\n",
    "example:"
   ]
  },
  {
   "cell_type": "code",
   "execution_count": null,
   "metadata": {},
   "outputs": [],
   "source": [
    "from utils import load_hier_total_example\n",
    "\n",
    "load_hier_total_example()"
   ]
  },
  {
   "cell_type": "markdown",
   "metadata": {},
   "source": [
    "#### The aggregation transformer\n",
    "\n",
    "The node-wise aggregated format can be obtained by applying the `Aggregator` transformer.\n",
    "\n",
    "In a pipeline with non-aggregate dinput, this allows making forecasts by totals."
   ]
  },
  {
   "cell_type": "code",
   "execution_count": null,
   "metadata": {},
   "outputs": [],
   "source": [
    "from sktime.datatypes import get_examples\n",
    "\n",
    "y_hier = get_examples(\"pd_multiindex_hier\")[1]\n",
    "y_hier"
   ]
  },
  {
   "cell_type": "code",
   "execution_count": null,
   "metadata": {},
   "outputs": [],
   "source": [
    "from sktime.transformations.hierarchical.aggregate import Aggregator\n",
    "\n",
    "Aggregator().fit_transform(y_hier)"
   ]
  },
  {
   "cell_type": "markdown",
   "metadata": {},
   "source": [
    "If used at the start of a pipeline, forecasts are made for node `__total`-s as well as individual instances.\n",
    "\n",
    "Note: in general, this does not result in a reconciled forecast, i.e., forecast totals will not add up."
   ]
  },
  {
   "cell_type": "code",
   "execution_count": null,
   "metadata": {},
   "outputs": [],
   "source": [
    "from sktime.forecasting.naive import NaiveForecaster\n",
    "\n",
    "pipeline_to_forecast_totals = Aggregator() * NaiveForecaster()\n",
    "\n",
    "pipeline_to_forecast_totals.fit(y_hier, fh=[1, 2])\n",
    "pipeline_to_forecast_totals.predict()"
   ]
  },
  {
   "cell_type": "markdown",
   "metadata": {},
   "source": [
    "If used at the end of a pipeline, forecasts are reconciled bottom-up.\n",
    "\n",
    "That will result in a reconciled forecast, although bottom-up may not be the method of choice."
   ]
  },
  {
   "cell_type": "code",
   "execution_count": null,
   "metadata": {},
   "outputs": [],
   "source": [
    "from sktime.forecasting.naive import NaiveForecaster\n",
    "\n",
    "pipeline_to_forecast_totals = NaiveForecaster() * Aggregator()\n",
    "\n",
    "pipeline_to_forecast_totals.fit(y_hier, fh=[1, 2])\n",
    "pipeline_to_forecast_totals.predict()"
   ]
  },
  {
   "cell_type": "markdown",
   "metadata": {},
   "source": [
    "#### Advanced reconciliation"
   ]
  },
  {
   "cell_type": "markdown",
   "metadata": {},
   "source": [
    "For transformer-like reconciliation, use the `Reconciler`.\n",
    "It supports advanced techniques such as OLS and WLS:"
   ]
  },
  {
   "cell_type": "code",
   "execution_count": null,
   "metadata": {},
   "outputs": [],
   "source": [
    "from sktime.transformations.hierarchical.reconcile import Reconciler\n",
    "\n",
    "pipeline_with_reconciliation = Aggregator() * NaiveForecaster() * Reconciler(method=\"ols\")"
   ]
  },
  {
   "cell_type": "code",
   "execution_count": null,
   "metadata": {},
   "outputs": [],
   "source": [
    "pipeline_to_forecast_totals.fit(y_hier, fh=[1, 2])\n",
    "pipeline_to_forecast_totals.predict()"
   ]
  },
  {
   "cell_type": "markdown",
   "metadata": {},
   "source": [
    "Roadmap items:\n",
    "\n",
    "* reconciliation of wrapper type\n",
    "* reconciliation & global forecasting\n",
    "* probabilistic reconciliation"
   ]
  },
  {
   "cell_type": "markdown",
   "metadata": {},
   "source": [
    "### Global forecasting vs Univariate Forecasting\n",
    "\n",
    "\n",
    "\n",
    "\"Many businesses nowadays rely on large quantities of time series data making time \n",
    "series forecasting an important research area. Global forecasting models [that] are trained\n",
    " **across sets of time series** have shown huge potential in providing accurate forecasts compared\n",
    " with the univariate forecasting models that work on isolated series.\"\n",
    "\n",
    "<img src=\"./img/flow.png\" width=\"400\" alt=\"arrow heads\">\n",
    "\n",
    "https://robjhyndman.com/publications/monash-forecasting-data/\n",
    "\n",
    " Why does global forecasting matter?\n",
    " * In practice, we often have time series of limited range\n",
    " * Estimation is difficult, and we cannot model complex dependencies\n",
    " * Assumption of global forecasting: We can observe the identical data generating process (DGP) multiple times\n",
    " * Non-identical DGPs can be fine too, as long as the degree of dissimilarity is captured by exogeneous information\n",
    " * Now we have much more information and can estimate more reliably and more complex models (caveat: unless complexity is purely driven by time dynamics)\n",
    " \n",
    "As a result of these advantages, global forecasting models have been very successful in competition, e.g.\n",
    "* Rossmann Store Sales\n",
    "* Walmart Sales in Stormy Weather\n",
    "* M5 competition\n",
    "\n",
    "Many business problems in practice are essentially global forecasting problem - often also reflecting hierarchical information (see above)\n",
    "* Product sales in different categories (e.g. M5 time series competition)\n",
    "* Balance sheet structures across cost centers / accounts\n",
    "* Dynamics of pandemics observed at different points in time\n",
    "\n",
    "Distinction to multivariate forecasting\n",
    "* Multivariate forecasting focuses on modeling interdependence between time series\n",
    "* Global can model interdependence, but focus lies on enhancing observation space\n",
    "\n",
    "Implementation in sktime\n",
    "* Multivariate forecasting models are supported in sktime via ? VAR...* \n",
    "* Global forecasting"
   ]
  },
  {
   "cell_type": "markdown",
   "metadata": {},
   "source": [
    "For the following example we will use the `\"pd-multiindex\"` representation of the `\"Panel\"` scitype discussed in Section 1.2. \n",
    "\n",
    "In that case, `\"instances\"` is the unique identifier for the individual time series, while `\"timepoints\"` captures the time index."
   ]
  },
  {
   "cell_type": "code",
   "execution_count": null,
   "metadata": {},
   "outputs": [],
   "source": [
    "import pandas as pd\n",
    "from sklearn.ensemble import RandomForestRegressor\n",
    "from sklearn.pipeline import make_pipeline\n",
    "\n",
    "from sktime.forecasting.compose import ForecastingPipeline, make_reduction\n",
    "from sktime.forecasting.model_selection import temporal_train_test_split\n",
    "from sktime.transformations.series.summarize import WindowSummarizer\n",
    "from sktime.transformations.series.date import DateTimeFeatures\n",
    "\n",
    "\n",
    "pd.options.mode.chained_assignment = None\n",
    "pd.set_option(\"display.max_columns\", None)\n",
    "\n",
    "# %%\n",
    "# Load M5 Data and prepare\n",
    "y = pd.read_pickle(\"global_fc/y.pkl\")\n",
    "X = pd.read_pickle(\"global_fc/X.pkl\")\n"
   ]
  },
  {
   "cell_type": "markdown",
   "metadata": {},
   "source": [
    "The dataset is based on the M5 competition. The data features sales of products in \n",
    "different stores, different states and different product categories. \n",
    "\n",
    "For a detailed analysis of the competition please take a look at the paper \n",
    "\"M5 accuracy competition: Results, findings, and conclusions\".\n",
    "\n",
    "\n",
    "https://doi.org/10.1016/j.ijforecast.2021.11.013\n"
   ]
  },
  {
   "cell_type": "markdown",
   "metadata": {},
   "source": [
    "You can see \n",
    "a glimpse of the data here:"
   ]
  },
  {
   "cell_type": "code",
   "execution_count": null,
   "metadata": {},
   "outputs": [],
   "source": [
    "print(y.head())\n",
    "print(X.head())"
   ]
  },
  {
   "cell_type": "markdown",
   "metadata": {},
   "source": [
    "\n",
    "The data set consists out of time series grouped via the instances argument in the first column\n",
    "of the multiindex. We will focus on modeling individual products. The hierarchical \n",
    "information is provided as exgoneous information. \n",
    "\n",
    "For the M5 competition, winning solution used exogeneous features about the hierarchies like `\"dept_id\"`, `\"store_id\"` etc. to capture similarities and dissimilarities of the products. Other features include holiday events and snap days (specific assisstance program of US social security paid on certain days)."
   ]
  },
  {
   "cell_type": "markdown",
   "metadata": {},
   "source": [
    "We can split into test and train set using temporal_train_test_split. SKTIME supports \n",
    "splitting instances for time series data, i.e. to cut every instance of the time series individually. Splitting is as simple as this:\n"
   ]
  },
  {
   "cell_type": "code",
   "execution_count": null,
   "metadata": {},
   "outputs": [],
   "source": [
    "y_train, y_test, X_train, X_test = temporal_train_test_split(y, X)\n",
    "display(y_train.head(5))\n",
    "display(y_test.head(5))"
   ]
  },
  {
   "cell_type": "markdown",
   "metadata": {},
   "source": [
    "SKTIME will make sure that both y and X are split in the same way, and also preserve the structure of the hierarchies."
   ]
  },
  {
   "cell_type": "markdown",
   "metadata": {},
   "source": [
    "### Rationale for tree based models\n",
    "\n",
    "Tree based models possess some unique advantages and disadvantages when applied to the domain of time series.\n",
    "They are able to exploit complex non-linear relationships / dependencies between time series and covariates, but also possess plenty of hyperparameters and -at least out of the box- cannot extrapolate.\n",
    "\n",
    "In **univariate time series forecasting**, tree based models often do not have enough data to reliably train hyperparameters, and statistical models like ARIMA or ETS are often superior. \n",
    "\n",
    "But due to the abundance of data in **global forecasting** - the M5 competition contained 42,840 time series -  the advantages of those models can begin to shine.\n",
    "\n",
    "SKTIME supports all major Python implementations of tree based models. In this example we will use a Random Forest Regressor."
   ]
  },
  {
   "cell_type": "code",
   "execution_count": null,
   "metadata": {},
   "outputs": [],
   "source": [
    "regressor = make_pipeline(\n",
    "    RandomForestRegressor(random_state=1),\n",
    ")"
   ]
  },
  {
   "cell_type": "markdown",
   "metadata": {},
   "source": [
    "One big caveat with tree based models is the fact they are not time series models per se and therefore do not understand concepts like autocorrelation or seasonalities. \n",
    "\n",
    "As a result, we need to generate appropriate features that capture the dynamics of the time series. In sktime we have the transformer  `\"WindowSummarizer\"` to capture that time dependence.\n",
    "\n",
    "The `\"WindowSummarizer\"` can be used to generate features useful for time series forecasting based on a provided dictionary of functions, window shifts and window lengths.\n",
    "\n",
    "See the following example for an application of `\"WindowSummarizer\"`:"
   ]
  },
  {
   "cell_type": "code",
   "execution_count": null,
   "metadata": {},
   "outputs": [],
   "source": [
    "import pandas as pd\n",
    "from sktime.transformations.series.summarize import WindowSummarizer\n",
    "from sktime.forecasting.base import ForecastingHorizon\n",
    "from sktime.forecasting.compose import ForecastingPipeline\n",
    "#y = load_airline()\n",
    "kwargs = {\n",
    "        \"lag_feature\": {\n",
    "            \"lag\": [1],\n",
    "            \"mean\": [[1, 3], [3, 6]],\n",
    "            \"std\": [[1, 4]],\n",
    "        }\n",
    "    }\n",
    "\n",
    "transformer = WindowSummarizer(**kwargs)\n",
    "y_transformed = transformer.fit_transform(y_train)\n",
    "\n",
    "display(y_transformed.head(10))"
   ]
  },
  {
   "cell_type": "markdown",
   "metadata": {},
   "source": [
    "The notation `\"mean\": [[1, 3]]` (captured in the column `\"y_mean_1_3\"`) can be interpreted in the following way:\n",
    "\n",
    "The summarization function `\"mean\": [[1, 3]]` is applied to the a window of length 3 lagged by one period when compare to the observation we want to forecast. This can be visualized in the following way (from the docs):\n",
    "\n",
    "    For `window = [1, 3]`, we have a `lag` of 1 and `window_length` of 3 to target the three last days (exclusive z) that were observed. Summarization is done across windows like this:\n",
    "    |-------------------------- |\n",
    "    | x x x x x x x x * * * z x |\n",
    "    |---------------------------|"
   ]
  },
  {
   "cell_type": "markdown",
   "metadata": {},
   "source": [
    "By default, `\"WindowSummarizer\"` uses pandas rolling window functions to allow for a speedy generation of features. \n",
    "* \"sum\",\n",
    "* \"mean\",\n",
    "* \"median\",\n",
    "* \"std\",\n",
    "* \"var\",\n",
    "* \"kurt\",\n",
    "* \"min\",\n",
    "* \"max\",\n",
    "* \"corr\",\n",
    "* \"cov\",\n",
    "* \"skew\",\n",
    "* \"sem\"\n",
    "\n",
    "These functions are typically very fast since they are optimized for rolling, grouped operations. \n",
    "\n",
    "In the M5 competition, arguably the most relevant features were:\n",
    "\n",
    "* **mean** calculations to capture level shifts, e.g. last week sales, sales of the week prior to the last month etc.\n",
    "* **standard deviation** to capture increases / decreases in volatility in sales, and how it impacts future sales\n",
    "* rolling **skewness** / **kurtosis** calculations, to capture changes in store sales tendencies.\n",
    "* various different calculations to capture periods of zero sales (e.g. out of stock scenarios)\n",
    "\n",
    "Only the first three calculations can be implemented using native pandas functions. You can, however, also provide any other arbitrary function to WindowSummarizer, either programmed by you, or from an external package. \n",
    "\n",
    "In this example, we will define the function `count_gt130` to count how many observations lie above the threshold of 130 within a window of length 3, lagged by 2 periods."
   ]
  },
  {
   "cell_type": "code",
   "execution_count": null,
   "metadata": {},
   "outputs": [],
   "source": [
    "import numpy as np\n",
    "def count_gt130(x):\n",
    "    \"\"\"Count how many observations lie above threshold 130.\"\"\"\n",
    "    return np.sum((x > 700)[::-1])\n",
    "\n",
    "kwargs = {\n",
    "        \"lag_feature\": {\n",
    "            \"lag\": [1],\n",
    "            count_gt130: [[2, 3]],\n",
    "            \"std\": [[1, 4]],\n",
    "        }\n",
    "    }\n",
    "\n",
    "transformer = WindowSummarizer(**kwargs)\n",
    "y_transformed = transformer.fit_transform(y_train)\n",
    "\n",
    "display(y_transformed.head(10))"
   ]
  },
  {
   "cell_type": "markdown",
   "metadata": {},
   "source": [
    "Other arguments you can provide to `\"WindowSummarizer\"` are:\n",
    "\n",
    "    n_jobs : int, optional (default=-1)\n",
    "        The number of jobs to run in parallel for applying the window functions.\n",
    "        ``-1`` means using all processors.\n",
    "    target_cols: list of str, optional (default = None)\n",
    "        Specifies which columns in X to target for applying the window functions.\n",
    "        ``None`` will target the first column\n",
    "\n",
    "In a global forecasting setting, you typically want to target primarly `y`. However, sometimes you also want to apply `\"WindowSummarizer\"` to some columns in `X`. Use \n",
    "`\"target_cols\"` to specify which columns and apply `\"WindowSummarizer\"` within a `\"ForecastingPipeline\"`.\n",
    "\n",
    "In the M5 competition, lagging of exogeneous features was especially useful for lags around holiday dummies (often sales are affected for a few days before and after major holidays) as well as changes in item prices (discounts as well as persistent price changes)"
   ]
  },
  {
   "cell_type": "code",
   "execution_count": null,
   "metadata": {},
   "outputs": [],
   "source": [
    "from sktime.forecasting.naive import NaiveForecaster\n",
    "from sktime.datasets import load_longley\n",
    "y_ll, X_ll = load_longley()\n",
    "y_train_ll, y_test_ll, X_train_ll, X_test_ll = temporal_train_test_split(y_ll, X_ll)\n",
    "fh = ForecastingHorizon(X_test_ll.index, is_relative=False)\n",
    "# Example transforming only X\n",
    "pipe = ForecastingPipeline(\n",
    "    steps=[\n",
    "        (\"a\", WindowSummarizer(n_jobs=1, target_cols=[\"POP\", \"GNPDEFL\"])),\n",
    "        (\"b\", WindowSummarizer(n_jobs=1, target_cols=[\"GNP\"], **kwargs)),\n",
    "        (\"forecaster\", NaiveForecaster(strategy=\"drift\")),\n",
    "    ]\n",
    ")\n",
    "pipe_return = pipe.fit(y_train_ll, X_train_ll)\n",
    "y_pred1 = pipe_return.predict(fh=fh, X=X_test_ll)\n",
    "display(y_pred1)"
   ]
  },
  {
   "cell_type": "markdown",
   "metadata": {},
   "source": [
    "Global forecasting models are often very performance and resource intensive. To address that, we have implemented an en-bloc approach in sktime to directly compute \n",
    "the relevant features in a parallel way. You can use that functionality by passing the WindowSummarizer as a transformer within our make_reduction function. \n",
    "\n",
    "In this case, you do not need to set a window_length, since it will be inferred from the WindowSummarizer (taking a look at the features that goes furthest back into time.)"
   ]
  },
  {
   "cell_type": "code",
   "execution_count": null,
   "metadata": {},
   "outputs": [],
   "source": [
    "forecaster = make_reduction(\n",
    "    regressor,\n",
    "    scitype=\"tabular-regressor\",\n",
    "    transformers=[WindowSummarizer(**kwargs, n_jobs=1)],\n",
    "    window_length=None,\n",
    "    strategy=\"recursive\",\n",
    ")\n"
   ]
  },
  {
   "cell_type": "markdown",
   "metadata": {},
   "source": [
    "As mentioned, concepts relating to calendar seasonalities are also not understood by tree based models and need to be provided by means of feature engineering. This relates for example to:\n",
    "* day of the week effects historically observed for stock prices (prices on Fridays used to differ from Monday prices).\n",
    "* used car prices being higher in spring than in summer\n",
    "* spendings at the beginning of the month differing from end of month due to salary effects.\n",
    "\n",
    "\n",
    "Calendar seasonalities can be modeled by means of dummy variables or fourier terms. As a rule of thumb, use dummy variables for discontinous effects and fourier terms when you believe there is a certain degree of smoothness in the seasonality.\n",
    "\n",
    "SKTIME currently supports the generation of calendar dummy variables via the DateTimeFeatures transformer. You can either manually specify the desired seasonality or provide to DateTimeFeatures the base frequency of the time series (daily, weekly etc.) and the desired complexity (few vs many features) and DateTimeFeatures will pick a set of sensible seasonalities. SKTIME will support fourier terms in a future release."
   ]
  },
  {
   "cell_type": "code",
   "execution_count": null,
   "metadata": {},
   "outputs": [],
   "source": [
    "transformer = DateTimeFeatures(ts_freq=\"D\")\n",
    "X_hat = transformer.fit_transform(X_train)\n",
    "\n",
    "new_cols = [i for i in X_hat if not i in X_train.columns]\n",
    "display(X_hat[new_cols])"
   ]
  },
  {
   "cell_type": "markdown",
   "metadata": {},
   "source": [
    "DateTimeFeatures supports the following frequencies:\n",
    "* Y - year\n",
    "* Q - quarter\n",
    "* M - month\n",
    "* W - week\n",
    "* D - day\n",
    "* H - hour\n",
    "* T - minute\n",
    "* S - second\n",
    "* L - millisecond\n",
    "\n",
    "You can specify the manual generation of dummy features with the notation e.g. \"day_of_month\", \"day_of_week\", \"week_of_quarter\". "
   ]
  },
  {
   "cell_type": "code",
   "execution_count": null,
   "metadata": {},
   "outputs": [],
   "source": [
    "transformer = DateTimeFeatures(manual_selection=[\"week_of_month\", \"day_of_quarter\"])\n",
    "X_hat = transformer.fit_transform(X_train)\n",
    "\n",
    "new_cols = [i for i in X_hat if not i in X_train.columns]\n",
    "display(X_hat[new_cols])"
   ]
  },
  {
   "cell_type": "markdown",
   "metadata": {},
   "source": [
    "### Putting it all together\n",
    "\n",
    "Using the `\"WindowSummarizer\"`, `\"DateTimeFeatures\"` and the `\"make_reduction\"` function we can now set up a working example of a an end to end global forecasting pipeline based on a sample of the M5 competition data:"
   ]
  },
  {
   "cell_type": "code",
   "execution_count": null,
   "metadata": {},
   "outputs": [],
   "source": [
    "# fh = ForecastingHorizon(X_test.index, is_relative=False)\n",
    "pipe = ForecastingPipeline(\n",
    "    steps=[\n",
    "        (\"event_dynamics\", WindowSummarizer(n_jobs=-1, **kwargs, target_cols=[\"event_type_1\",\"event_type_2\"])),\n",
    "        (\"snap_dynamics\", WindowSummarizer(n_jobs=-1, target_cols=[\"snap\"])),\n",
    "        (\"daily_season\", DateTimeFeatures(ts_freq=\"D\")),\n",
    "        (\"forecaster\", forecaster),\n",
    "    ]\n",
    ")\n",
    "\n",
    "#display(X_train)\n",
    "pipe_return = pipe.fit(y_train, X_train)\n",
    "y_pred1 = pipe_return.predict(fh=1, X=X_test)\n",
    "display(y_pred1)"
   ]
  },
  {
   "cell_type": "markdown",
   "metadata": {},
   "source": [
    "### Road ahead\n",
    "\n",
    "The major steps needed for global forecasting have been implemented, but a key challenge remains. \n",
    "\n",
    "<img src=\"./img/road_ahead.PNG\" width=\"1000\" alt=\"road ahead\">\n",
    "\n",
    "Due to the complexity of time series feature generation, **cross validation** for tree based models is still a very manual issue requiring expertise and often just trial and error approaches."
   ]
  },
  {
   "cell_type": "markdown",
   "metadata": {},
   "source": [
    "We intend to integrate the following global forecasting features into the next SKTIME releases:\n",
    "* Automated tuning strategy:\n",
    "    * complexity argument taking into account the frequency / length of time series and internal heuristic to generate appropriate features\n",
    "    * autodetect approraite features based on autocorrelation function and seasonsality detection\n",
    "    * Using feature importances to identify relevant features\n",
    "\n",
    "\n",
    "* Strategies for extrapolation \n",
    "    * Trend removal and addition\n",
    "    * Postprocessing based on other models that recognize trends\n",
    "    * Multivariate trend removal to detect / remove common trends\n",
    "\n",
    "* Quantile Regression \n",
    "    * Tree based models were not only winning solution in M5 for point forecasts, but also quantile regression"
   ]
  },
  {
   "cell_type": "markdown",
   "metadata": {},
   "source": [
    "## Contributions welcome!"
   ]
  },
  {
   "cell_type": "markdown",
   "metadata": {},
   "source": [
    "---\n",
    "\n",
    "### Credits\n",
    "\n",
    "notebook creation: danbartl, fkiraly\n",
    "\n",
    "hierarchical forecasting framework: ciaran-g, fkiraly\\\n",
    "reduction compatibility with hierarchical forecasting: danbartl\\\n",
    "window summarizer, reduction with transform-from-y: danbartl\\\n",
    "aggregation and reconciliation: ciaran-g"
   ]
  }
 ],
 "metadata": {
  "kernelspec": {
   "display_name": "Python 3 (ipykernel)",
   "language": "python",
   "name": "python3"
  },
  "language_info": {
   "codemirror_mode": {
    "name": "ipython",
    "version": 3
   },
   "file_extension": ".py",
   "mimetype": "text/x-python",
   "name": "python",
   "nbconvert_exporter": "python",
   "pygments_lexer": "ipython3",
   "version": "3.8.10"
  }
 },
 "nbformat": 4,
 "nbformat_minor": 4
}
