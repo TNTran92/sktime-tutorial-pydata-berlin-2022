{
 "cells": [
  {
   "cell_type": "markdown",
   "metadata": {},
   "source": [
    "# sktime - A Unified Framework for Machine Learning with Time Series\n",
    "\n",
    "Tutorial at the PyData Global 2021\n",
    "\n",
    "Find out more at: https://github.com/alan-turing-institute/sktime"
   ]
  },
  {
   "cell_type": "markdown",
   "metadata": {},
   "source": []
  },
  {
   "cell_type": "markdown",
   "metadata": {},
   "source": [
    "---\n",
    "## Hierarchical time series\n",
    "\n",
    "In typical business use cases, time series often present in hierarchical from.\n",
    "\n",
    "### Data\n",
    "\n",
    "<img src=\"./img/hierarchytree.png\" width=\"1200\" alt=\"arrow heads\">\n",
    "\n",
    "Examples include:\n",
    "* Product sales in different categories (e.g. M5 time series competition)\n",
    "* Tourism demand in different regions\n",
    "* Balance sheet structures across cost centers / accounts\n",
    "\n",
    "Many hierarchical time series datasets can be found here:\n",
    "https://forecastingdata.org/\n",
    "(SKTIME is working on a loader to easily access data in this repo)\n",
    "\n",
    "\n",
    "For literature see also:\n",
    "https://otexts.com/fpp2/hierarchical.html\n",
    "\n",
    "The above example shows a clean hierarchy tree leading from the top level strictly\n",
    "downwards to lower level branches. In practice, we can also often see a more complicated \n",
    "aggregation structure where the product hierarchy and the geographic hierarchy can \n",
    "both be used together. \n",
    "\n",
    "<img src=\"./img/hierarchytree_grouped.png\" width=\"1200\" alt=\"arrow heads\">\n",
    "\n",
    "\n",
    "# How does sktime represent hierarchical data?\n",
    "# General intro to sktime datatypes\n",
    "\n",
    "`sktime` provides modules for a number of time series related learning tasks.\n",
    "\n",
    "These modules use `sktime` specific in-memory (i.e., python workspace) representations for time series and related objects, most importantly individual time series and time series panels. `sktime`'s in-memory representations rely on `pandas` and `numpy`, with additional conventions on the `pandas` and `numpy` object.\n",
    "\n",
    "Users of `sktime` should be aware of these representations, since presenting the data in an `sktime` compatible representation is usually the first step in using any of the `sktime` modules.\n",
    "\n",
    "This notebook introduces the data types used in `sktime`, related functionality such as converters and validity checkers, and common workflows for loading and conversion:\n",
    "\n",
    "**Section 1** introduces in-memory data containers used in `sktime`, with examples.\n",
    "\n",
    "**Section 2** introduces validity checkers and conversion functionality for in-memory data containers.\n",
    "\n",
    "**Section 3** introduces common workflows to load data from file formats"
   ]
  },
  {
   "cell_type": "code",
   "execution_count": null,
   "metadata": {},
   "outputs": [],
   "source": [
    "# import to retrieve examples\n",
    "from sktime.datatypes import get_examples"
   ]
  },
  {
   "cell_type": "markdown",
   "metadata": {},
   "source": [
    "### Section 1.1.1: Time series - the `\"pd.DataFrame\"` mtype\n",
    "\n",
    "In the `\"pd.DataFrame\"` mtype, time series are represented by an in-memory container `obj: pandas.DataFrame` as follows.\n",
    "\n",
    "* structure convention: `obj.index` must be monotonous, and one of `Int64Index`, `RangeIndex`, `DatetimeIndex`, `PeriodIndex`.\n",
    "* variables: columns of `obj` correspond to different variables\n",
    "* variable names: column names `obj.columns`\n",
    "* time points: rows of `obj` correspond to different, distinct time points\n",
    "* time index: `obj.index` is interpreted as a time index.\n",
    "* capabilities: can represent multivariate series; can represent unequally spaced series"
   ]
  },
  {
   "cell_type": "code",
   "execution_count": null,
   "metadata": {},
   "outputs": [],
   "source": [
    "get_examples(mtype=\"pd.DataFrame\", as_scitype=\"Series\")[0]"
   ]
  },
  {
   "cell_type": "markdown",
   "metadata": {},
   "source": [
    "Example of a bivariate series in `\"pd.DataFrame\"` representation.\n",
    "This series has two variables, named `\"a\"` and `\"b\"`. Both are observed at the same four time points 0, 1, 2, 3."
   ]
  },
  {
   "cell_type": "markdown",
   "metadata": {},
   "source": [
    "### Workflow\n",
    "\n",
    "1. Model specification\n",
    "2. Fitting\n",
    "3. Prediction\n",
    "4. Evaluation"
   ]
  },
  {
   "cell_type": "code",
   "execution_count": null,
   "metadata": {},
   "outputs": [],
   "source": [
    "get_examples(mtype=\"pd.DataFrame\", as_scitype=\"Series\")[1]"
   ]
  },
  {
   "cell_type": "markdown",
   "metadata": {},
   "source": [
    "### Section 1.2: Time series panels - the `\"Panel\"` scitype\n",
    "\n",
    "The major representations of time series panels in `sktime` are:\n",
    "\n",
    "* `\"pd-multiindex\"` - a `pandas.DataFrame`, with row multi-index (`instances`, `timepoints`), cols = variables\n",
    "* `\"numpy3D\"` - a 3D `np.ndarray`, with axis 0 = instances, axis 1 = variables, axis 2 = time points\n",
    "* `\"df-list\"` - a `list` of `pandas.DataFrame`, with list index = instances, data frame rows = time points, data frame cols = variables\n",
    "\n",
    "These representations are considered primary representations in `sktime` and are core to internal computations.\n",
    "\n",
    "There are further, minor representations of time series panels in `sktime`:\n",
    "\n",
    "* `\"nested_univ\"` - a `pandas.DataFrame`, with `pandas.Series` in cells. data frame rows = instances, data frame cols = variables, and series axis = time points\n",
    "* `\"numpyflat\"` - a 2D `np.ndarray` with rows = instances, and columns indexed by a pair index of (variables, time points). This format is only being converted to and cannot be converted from (since number of variables and time points may be ambiguous).\n",
    "* `\"pd-wide\"` - a `pandas.DataFrame` in wide format: has column multi-index (variables, time points), rows = instances; the \"variables\" index can be omitted for univariate time series\n",
    "* `\"pd-long\"` - a `pandas.DataFrame` in long format: has cols `instances`, `timepoints`, `variable`, `value`; entries in `value` are indexed by tuples of values in (`instances`, `timepoints`, `variable`).\n",
    "\n",
    "The minor representations are currently not fully consolidated in-code and are not discussed further below. Contributions are appreciated."
   ]
  },
  {
   "cell_type": "markdown",
   "metadata": {},
   "source": [
    "### Section 1.2.1: Time series panels - the `\"pd-multiindex\"` mtype\n",
    "\n",
    "In the `\"pd-multiindex\"` mtype, time series panels are represented by an in-memory container `obj: pandas.DataFrame` as follows.\n",
    "\n",
    "* structure convention: `obj.index` must be a pair multi-index of type `(RangeIndex, t)`, where `t` is one of `Int64Index`, `RangeIndex`, `DatetimeIndex`, `PeriodIndex` and monotonous. `obj.index` must have name `(\"instances\", \"timepoints\")`.\n",
    "* instances: rows with the same `\"instances\"` index correspond to the same instance; rows with different `\"instances\"` index correspond to different instances.\n",
    "* instance index: the first element of pairs in `obj.index` is interpreted as an instance index. \n",
    "* variables: columns of `obj` correspond to different variables\n",
    "* variable names: column names `obj.columns`\n",
    "* time points: rows of `obj` with the same `\"timepoints\"` index correspond correspond to the same time point; rows of `obj` with different `\"timepoints\"` index correspond correspond to the different time points.\n",
    "* time index: the second element of pairs in `obj.index` is interpreted as a time index. \n",
    "* capabilities: can represent panels of multivariate series; can represent unequally spaced series; can represent panels of unequally supported series; cannot represent panels of series with different sets of variables."
   ]
  },
  {
   "cell_type": "markdown",
   "metadata": {},
   "source": [
    "Example of a panel of multivariate series in `\"pd-multiindex\"` mtype representation.\n",
    "The panel contains three multivariate series, with instance indices 0, 1, 2. All series have two variables with names `\"var_0\"`, `\"var_1\"`. All series are observed at three time points 0, 1, 2."
   ]
  },
  {
   "cell_type": "code",
   "execution_count": null,
   "metadata": {},
   "outputs": [],
   "source": [
    "get_examples(mtype=\"pd-multiindex\", as_scitype=\"Panel\")[0]"
   ]
  },
  {
   "cell_type": "markdown",
   "metadata": {},
   "source": [
    "### Section 1.2.2: Hierarchical types\n",
    "* structure convention: `obj.index` must be a  multi-index of type `(RangeIndex, t)`, where `t` is one of `Int64Index`, `RangeIndex`, `DatetimeIndex`, `PeriodIndex` and monotonous. `obj.index` must multi column names, which the last column being `(\"\"timepoints\")`.\n",
    "* instances: rows with the same `\"instances\"` index correspond to the same instance; rows with different `\"instances\"` index correspond to different instances.\n",
    "* instance index: the first element of pairs in `obj.index` is interpreted as an instance index. \n",
    "* variables: columns of `obj` correspond to different variables\n",
    "* variable names: column names `obj.columns`\n",
    "* time points: rows of `obj` with the same `\"timepoints\"` index correspond correspond to the same time point; rows of `obj` with different `\"timepoints\"` index correspond correspond to the different time points.\n",
    "* time index: the second element of pairs in `obj.index` is interpreted as a time index. \n",
    "* capabilities: can represent panels of multivariate series; can represent unequally spaced series; can represent panels of unequally supported series; cannot represent panels of series with different sets of variables."
   ]
  },
  {
   "cell_type": "code",
   "execution_count": null,
   "metadata": {},
   "outputs": [],
   "source": [
    "\"\"\"Example generation for testing.\n",
    "Example of two-dimensional hierarchy\n",
    "\"\"\"\n",
    "\n",
    "import pandas as pd\n",
    "\n",
    "###\n",
    "# example 0: multivariate, equally sampled\n",
    "\n",
    "cols = [\"instances_0\", \"instances_1\", \"timepoints\"] + [f\"var_{i}\" for i in range(2)]\n",
    "\n",
    "Xlist = [\n",
    "    pd.DataFrame(\n",
    "        [[\"a\", 0, 0, 1, 4], [\"a\", 0, 1, 2, 5], [\"a\", 0, 2, 3, 6]], columns=cols\n",
    "    ),\n",
    "    pd.DataFrame(\n",
    "        [[\"a\", 1, 0, 1, 4], [\"a\", 1, 1, 2, 55], [\"a\", 1, 2, 3, 6]], columns=cols\n",
    "    ),\n",
    "    pd.DataFrame(\n",
    "        [[\"a\", 2, 0, 1, 42], [\"a\", 2, 1, 2, 5], [\"a\", 2, 2, 3, 6]], columns=cols\n",
    "    ),\n",
    "    pd.DataFrame(\n",
    "        [[\"b\", 0, 0, 1, 4], [\"b\", 0, 1, 2, 5], [\"b\", 0, 2, 3, 6]], columns=cols\n",
    "    ),\n",
    "    pd.DataFrame(\n",
    "        [[\"b\", 1, 0, 1, 4], [\"b\", 1, 1, 2, 55], [\"b\", 1, 2, 3, 6]], columns=cols\n",
    "    ),\n",
    "    pd.DataFrame(\n",
    "        [[\"b\", 2, 0, 1, 42], [\"b\", 2, 1, 2, 5], [\"b\", 2, 2, 3, 6]], columns=cols\n",
    "    ),\n",
    "]\n",
    "\n",
    "X = pd.concat(Xlist)\n",
    "X = X.set_index([\"instances_0\", \"instances_1\", \"timepoints\"])\n"
   ]
  },
  {
   "cell_type": "code",
   "execution_count": null,
   "metadata": {},
   "outputs": [],
   "source": [
    "X"
   ]
  },
  {
   "cell_type": "code",
   "execution_count": null,
   "metadata": {},
   "outputs": [],
   "source": [
    "X.index.get_level_values(level=-1)"
   ]
  },
  {
   "cell_type": "markdown",
   "metadata": {},
   "source": [
    "### Hierarchical forecasting\n",
    "* data with hierarchical format can be forecast based on one of the different panel\n",
    "mtypes\n",
    "* forecasts that are generated this way are independent of each other\n",
    "* if we add up these forecasts, we get consistent forecasts that sum up across\n",
    "dimensions."
   ]
  },
  {
   "cell_type": "code",
   "execution_count": null,
   "metadata": {},
   "outputs": [],
   "source": [
    "from sktime.datatypes import check_is_mtype, convert\n",
    "from sktime.forecasting.arima import ARIMA\n",
    "from sktime.utils._testing.hierarchical import _make_hierarchical\n",
    "from sktime.utils._testing.panel import _make_panel_X\n",
    "n_instances = 10\n",
    "PANEL_MTYPES = [\"pd-multiindex\", \"nested_univ\", \"numpy3D\"]\n",
    "HIER_MTYPES = [\"pd_multiindex_hier\"]\n",
    "\n",
    "y = _make_panel_X(n_instances=n_instances, random_state=42)\n",
    "y = convert(y, from_type=\"nested_univ\", to_type=PANEL_MTYPES[0])\n",
    "\n",
    "y_pred = ARIMA().fit(y).predict([1, 2, 3])\n",
    "valid, _, metadata = check_is_mtype(y_pred, PANEL_MTYPES[0], return_metadata=True)"
   ]
  },
  {
   "cell_type": "markdown",
   "metadata": {},
   "source": [
    "### Hierarchical forecasting - challenges\n",
    "* The above approach is called \"bottom up reconciliation\"\n",
    "* There exist other reconciliation approaches \n"
   ]
  },
  {
   "cell_type": "markdown",
   "metadata": {},
   "source": [
    "### Global forecasting vs Univariate Forecasting\n",
    "\n",
    "\n",
    "\n",
    "\"Many businesses nowadays rely on large quantities of time series data making time \n",
    "series forecasting an important research area. Global forecasting models [that] are trained\n",
    " **across sets of time series** have shown huge potential in providing accurate forecasts compared\n",
    " with the univariate forecasting models that work on isolated series.\"\n",
    "\n",
    "<img src=\"./img/flow.png\" width=\"400\" alt=\"arrow heads\">\n",
    "\n",
    "https://robjhyndman.com/publications/monash-forecasting-data/\n",
    "\n",
    " Why does global forecasting matter?\n",
    " * In practice, we often have time series of limited range\n",
    " * Estimation is difficult, and we cannot model complex dependencies\n",
    " * Assumption of global forecasting: We can observe the identical data generating process (DGP) multiple times\n",
    " * Non-identical DGPs can be fine too, as long as the degree of dissimilarity is captured by exogeneous information\n",
    " * Now we have much more information and can estimate more reliably and more complex models (caveat: unless complexity is purely driven by time dynamics)\n",
    " \n",
    "As a result of these advantages, global forecasting models have been very successful in competition, e.g.\n",
    "* Rossmann Store Sales\n",
    "* Walmart Sales in Stormy Weather\n",
    "* M5 competition\n",
    "\n",
    "Many business problems in practice are essentially global forecasting problem - often also reflecting hierarchical information (see above)\n",
    "* Product sales in different categories (e.g. M5 time series competition)\n",
    "* Balance sheet structures across cost centers / accounts\n",
    "* Dynamics of pandemics observed at different points in time\n",
    "\n",
    "Distinction to multivariate forecasting\n",
    "* Multivariate forecasting focuses on modeling interdependence between time series\n",
    "* Global can model interdependence, but focus lies on enhancing observation space\n",
    "\n",
    "Implementation in sktime\n",
    "* Multivariate forecasting models are supported in sktime via ? VAR...* \n",
    "* Global forecasting"
   ]
  },
  {
   "cell_type": "markdown",
   "metadata": {},
   "source": [
    "For the following example we will use the `\"pd-multiindex\"` representation of the `\"Panel\"` scitype discussed in Section 1.2. \n",
    "\n",
    "In that case, `\"instances\"` is the unique identifier for the individual time series, while `\"timepoints\"` captures the time index."
   ]
  },
  {
   "cell_type": "code",
   "execution_count": null,
   "metadata": {},
   "outputs": [],
   "source": [
    "import pandas as pd\n",
    "from sklearn.ensemble import RandomForestRegressor\n",
    "from sklearn.pipeline import make_pipeline\n",
    "\n",
    "from sktime.forecasting.compose import ForecastingPipeline, make_reduction\n",
    "from sktime.forecasting.model_selection import temporal_train_test_split\n",
    "from sktime.transformations.series.summarize import WindowSummarizer\n",
    "from sktime.transformations.series.date import DateTimeFeatures\n",
    "\n",
    "\n",
    "pd.options.mode.chained_assignment = None\n",
    "pd.set_option(\"display.max_columns\", None)\n",
    "\n",
    "# %%\n",
    "# Load M5 Data and prepare\n",
    "y = pd.read_pickle(\"global_fc/y.pkl\")\n",
    "X = pd.read_pickle(\"global_fc/X.pkl\")\n"
   ]
  },
  {
   "cell_type": "markdown",
   "metadata": {},
   "source": [
    "The dataset is based on the M5 competition. The data features sales of products in \n",
    "different stores, different states and different product categories. \n",
    "\n",
    "For a detailed analysis of the competition please take a look at the paper \n",
    "\"M5 accuracy competition: Results, findings, and conclusions\".\n",
    "\n",
    "\n",
    "https://doi.org/10.1016/j.ijforecast.2021.11.013\n"
   ]
  },
  {
   "cell_type": "markdown",
   "metadata": {},
   "source": [
    "You can see \n",
    "a glimpse of the data here:"
   ]
  },
  {
   "cell_type": "code",
   "execution_count": null,
   "metadata": {},
   "outputs": [],
   "source": [
    "print(y.head())\n",
    "print(X.head())"
   ]
  },
  {
   "cell_type": "markdown",
   "metadata": {},
   "source": [
    "\n",
    "The data features time series grouped via the instances argument in the first column\n",
    "of the multiindex. We will focus on modeling individual products. The hierarchical \n",
    "information is provided as exgoneous information. \n",
    "\n",
    "For the M5 competion, many approaches did not use hierachical reconciliation. They\n",
    "did, however, use exogeneous like `\"dept_id\"`, `\"store_id\"` etc. to capture \n",
    "similarities and dissimilarities of the products. "
   ]
  },
  {
   "cell_type": "markdown",
   "metadata": {},
   "source": [
    "We can split into test and train set using temporal_train_test_split. SKTIME supports \n",
    "splitting instances time series data, i.e. the cut every group individually. Splitting\n",
    "is a s simple as cutting this:\n"
   ]
  },
  {
   "cell_type": "code",
   "execution_count": null,
   "metadata": {},
   "outputs": [],
   "source": [
    "y_train, y_test, X_train, X_test = temporal_train_test_split(y, X)"
   ]
  },
  {
   "cell_type": "markdown",
   "metadata": {},
   "source": [
    "In univariate forecasting, tree based models often do not have have been shown to be great candidates for global forecasting. \n",
    "Often, not enough data is available to reliably train the abundance of hyperparameters in tree based models. \n",
    "This is typically not true for global forecasting models, so the advantages of those models - being able to exploit non-linear relationship  / dependence between and within time series and covariates can begin to shine.\n",
    "\n",
    "SKTIME supports all major Python implementations of tree based models. In this example we will use a Random Forest Regressor."
   ]
  },
  {
   "cell_type": "code",
   "execution_count": null,
   "metadata": {},
   "outputs": [],
   "source": [
    "regressor = make_pipeline(\n",
    "    RandomForestRegressor(random_state=1),\n",
    ")"
   ]
  },
  {
   "cell_type": "markdown",
   "metadata": {},
   "source": [
    "However, one big caveat with tree based models is the fact they are not time series models per se and therefore out of the box do not understand concepts like autocorrelation or other time series concepts. Therefore, we need to generate appropriate features that capture the dynamics of the time series. In sktime we have the transformer  `\"WindowSummarizer\"` to capture that time dependence.\n",
    "\n",
    "The `\"WindowSummarizer\"` transforms input series to features based on a provided dictionary of window summarizer, window shifts\n",
    "and window lengths.\n",
    "\n",
    "        The summarization function is applied to the window consisting of * and\n",
    "        potentially z.\n",
    "\n",
    "        For `window = [1, 3]`, we have a `lag` of 1 and\n",
    "        `window_length` of 3 to target the three last days (exclusive z) that were\n",
    "        observed. Summarization is done across windows like this:\n",
    "        |-------------------------- |\n",
    "        | x x x x x x x x * * * z x |\n",
    "        |---------------------------|\n",
    "\n",
    "See the following example for an application of `\"WindowSummarizer\"`:"
   ]
  },
  {
   "cell_type": "code",
   "execution_count": null,
   "metadata": {},
   "outputs": [],
   "source": [
    "import pandas as pd\n",
    "from sktime.transformations.series.summarize import WindowSummarizer\n",
    "from sktime.datasets import load_airline, load_longley\n",
    "from sktime.forecasting.naive import NaiveForecaster\n",
    "from sktime.forecasting.base import ForecastingHorizon\n",
    "from sktime.forecasting.compose import ForecastingPipeline\n",
    "from sktime.forecasting.model_selection import temporal_train_test_split\n",
    "y = load_airline()\n",
    "kwargs = {\n",
    "        \"lag_feature\": {\n",
    "            \"lag\": [1],\n",
    "            \"mean\": [[1, 3], [3, 6]],\n",
    "            \"std\": [[1, 4]],\n",
    "        }\n",
    "    }\n",
    "\n",
    "transformer = WindowSummarizer(**kwargs)\n",
    "y_transformed = transformer.fit_transform(y)\n",
    "\n",
    "display(y_transformed.head(10))"
   ]
  },
  {
   "cell_type": "markdown",
   "metadata": {},
   "source": [
    "By default, `\"WindowSummarizer\"` uses pandas rolling window functions to allow for a speedy generation of features. \n",
    "* \"sum\",\n",
    "* \"mean\",\n",
    "* \"median\",\n",
    "* \"std\",\n",
    "* \"var\",\n",
    "* \"kurt\",\n",
    "* \"min\",\n",
    "* \"max\",\n",
    "* \"corr\",\n",
    "* \"cov\",\n",
    "* \"skew\",\n",
    "* \"sem\"\n",
    "\n",
    "These functions are typically very fast since they are optimized for rolling, grouped operations. \n",
    "\n",
    "In the M5 competition, arguably the most relevant features were:\n",
    "\n",
    "* rolling mean calculations to capture level shifts, e.g. last week sales, sales of the week prior to the last month etc.\n",
    "* rolling standard deviation to capture increases / decreases in volatility in sales, and how it impacts future sales\n",
    "* rolling skewness / kurtosis calculations, to capture changes in store sales tendencies.\n",
    "* various different calculations to capture periods of zero sales (e.g. out of stock scenarios)\n",
    "\n",
    "Only the first three calculations can be implemented using native pandas functions. You can, however, also provide any other arbitrary function to WindowSummarizer, either programmed by you, or from an external package. In this example, we will provide the function count_gt130 to count how many observations lie above the threshold of 130 within a window of length 3, lagged by 2 periods."
   ]
  },
  {
   "cell_type": "code",
   "execution_count": null,
   "metadata": {},
   "outputs": [],
   "source": [
    "import numpy as np\n",
    "def count_gt130(x):\n",
    "    \"\"\"Count how many observations lie above threshold 130.\"\"\"\n",
    "    return np.sum((x > 130)[::-1])\n",
    "\n",
    "y = load_airline()\n",
    "kwargs = {\n",
    "        \"lag_feature\": {\n",
    "            \"lag\": [1],\n",
    "            count_gt130: [[3, 2]],\n",
    "            \"std\": [[1, 4]],\n",
    "        }\n",
    "    }\n",
    "\n",
    "transformer = WindowSummarizer(**kwargs)\n",
    "y_transformed = transformer.fit_transform(y)\n",
    "\n",
    "display(y_transformed.head(10))"
   ]
  },
  {
   "cell_type": "markdown",
   "metadata": {},
   "source": [
    "Other arguments you can provide to `\"WindowSummarizer\"` are:\n",
    "\n",
    "    n_jobs : int, optional (default=-1)\n",
    "        The number of jobs to run in parallel for applying the window functions.\n",
    "        ``-1`` means using all processors.\n",
    "    target_cols: list of str, optional (default = None)\n",
    "        Specifies which columns in X to target for applying the window functions.\n",
    "        ``None`` will target the first column\n",
    "\n",
    "In a global forecasting setting, you typically want to target primarly `y`. However, sometimes you also want to apply `\"WindowSummarizer\"` to some columns in `X`. Use \n",
    "`\"target_cols\"` to specify which columns and apply `\"WindowSummarizer\"` within a `\"ForecastingPipeline\"`.\n",
    "\n",
    "In the M5 competition, lagging of exogeneous features was especially useful for lags around holiday dummies (often sales are affected for a few days before and after major holidays) as well as changes in item prices (discounts as well as persitent price changes)"
   ]
  },
  {
   "cell_type": "code",
   "execution_count": null,
   "metadata": {},
   "outputs": [],
   "source": [
    "y, X = load_longley()\n",
    "y_train, y_test, X_train, X_test = temporal_train_test_split(y, X)\n",
    "fh = ForecastingHorizon(X_test.index, is_relative=False)\n",
    "# Example transforming only X\n",
    "pipe = ForecastingPipeline(\n",
    "    steps=[\n",
    "        (\"a\", WindowSummarizer(n_jobs=-1, target_cols=[\"POP\", \"GNPDEFL\"])),\n",
    "        (\"b\", WindowSummarizer(n_jobs=-1, target_cols=[\"GNP\"], **kwargs)),\n",
    "        (\"forecaster\", NaiveForecaster(strategy=\"drift\")),\n",
    "    ]\n",
    ")\n",
    "pipe_return = pipe.fit(y_train, X_train)\n",
    "y_pred1 = pipe_return.predict(fh=fh, X=X_test)"
   ]
  },
  {
   "cell_type": "markdown",
   "metadata": {},
   "source": [
    "Global forecasting models are often very performance and resource intensive. To address that, we have implemented an en-bloc approach in sktime to directly compute \n",
    "the relevant features in a parallel way. You can use that functionality by passing the WindowSummarizer as a transformer within our make_reduction function"
   ]
  },
  {
   "cell_type": "code",
   "execution_count": null,
   "metadata": {},
   "outputs": [],
   "source": [
    "#make_reduction introb"
   ]
  },
  {
   "cell_type": "code",
   "execution_count": null,
   "metadata": {},
   "outputs": [],
   "source": [
    "#DateTimeFeatures explanation"
   ]
  },
  {
   "cell_type": "code",
   "execution_count": null,
   "metadata": {},
   "outputs": [],
   "source": [
    "forecaster = make_reduction(\n",
    "    regressor,\n",
    "    scitype=\"tabular-regressor\",\n",
    "    transformers=[WindowSummarizer(**kwargs, n_jobs=1)],\n",
    "    window_length=None,\n",
    "    strategy=\"recursive\",\n",
    ")\n"
   ]
  },
  {
   "cell_type": "markdown",
   "metadata": {},
   "source": [
    "You can then use this forecaster just like you would continue for univariate forecasting"
   ]
  },
  {
   "cell_type": "code",
   "execution_count": null,
   "metadata": {},
   "outputs": [],
   "source": [
    "forecaster.fit(y_train, fh=[1, 2])\n",
    "y_pred2 = forecaster.predict(fh=[1, 2, 12])"
   ]
  },
  {
   "cell_type": "code",
   "execution_count": null,
   "metadata": {},
   "outputs": [],
   "source": [
    "### Forecasting Pi  peline\n",
    "    #How to chain \n",
    "bin    #Why does it makes sense"
   ]
  },
  {
   "cell_type": "code",
   "execution_count": null,
   "metadata": {},
   "outputs": [],
   "source": [
    "# fh = ForecastingHorizon(X_test.index, is_relative=False)\n",
    "pipe = ForecastingPipeline(\n",
    "    steps=[\n",
    "        (\"a\", WindowSummarizer(n_jobs=-1, target_cols=[\"event_type_1\", \"snap\"])),\n",
    "        (\"forecaster\", forecaster),\n",
    "    ]\n",
    ")\n",
    "\n",
    "\n",
    "pipe_return = pipe.fit(y_train, X_train)\n",
    "y_pred1 = pipe_return.predict(fh=1, X=X_test)\n",
    "\n",
    "a=0\n"
   ]
  },
  {
   "cell_type": "code",
   "execution_count": null,
   "metadata": {},
   "outputs": [],
   "source": []
  },
  {
   "cell_type": "markdown",
   "metadata": {},
   "source": [
    "blab lambda"
   ]
  },
  {
   "cell_type": "markdown",
   "metadata": {},
   "source": [
    "---\n",
    "\n",
    "### Hierarchical reconciliation"
   ]
  },
  {
   "cell_type": "markdown",
   "metadata": {},
   "source": [
    "forecast reconciliation = ensuring that linear hierarchy dependencies are met,\\\n",
    "e.g., \"sum of individual shop sales in Berlin must equal sum of total sales in Berlin\"\\\n",
    "requires hierarchical (or panel) data, usually involves totals"
   ]
  },
  {
   "cell_type": "markdown",
   "metadata": {},
   "source": [
    "sktime provides functionality for reconciliation:\n",
    "\n",
    "* data container convention for node-wise aggregates\n",
    "* functionality to compute node-wise aggregates - `Aggregator`\n",
    "* transformer implementing reconiliation logic - `Reconciler`"
   ]
  },
  {
   "cell_type": "markdown",
   "metadata": {},
   "source": [
    "#### The node-wise aggregate data format"
   ]
  },
  {
   "cell_type": "markdown",
   "metadata": {},
   "source": [
    "`sktime` uses a special case of the `pd_multiindex_hier` format to store node-wise aggregates:\n",
    "\n",
    "* a `__total` index element in an instance (non-time-like) level indicates summation over all instances below that level\n",
    "* the `__total` index element is reserved and cannot be used for anything else\n",
    "* entries below a `__total` index element are sums of entries over all other instances in the same levels where a `__total` element is found\n",
    "\n",
    "example:"
   ]
  },
  {
   "cell_type": "code",
   "execution_count": null,
   "metadata": {},
   "outputs": [],
   "source": [
    "from utils import load_hier_total_example\n",
    "\n",
    "load_hier_total_example()"
   ]
  },
  {
   "cell_type": "markdown",
   "metadata": {},
   "source": [
    "#### The aggregation transformer\n",
    "\n",
    "The node-wise aggregated format can be obtained by applying the `Aggregator` transformer.\n",
    "\n",
    "In a pipeline with non-aggregate dinput, this allows making forecasts by totals."
   ]
  },
  {
   "cell_type": "code",
   "execution_count": null,
   "metadata": {},
   "outputs": [],
   "source": [
    "from sktime.datatypes import get_examples\n",
    "\n",
    "y_hier = get_examples(\"pd_multiindex_hier\")[1]\n",
    "y_hier"
   ]
  },
  {
   "cell_type": "code",
   "execution_count": null,
   "metadata": {},
   "outputs": [],
   "source": [
    "from sktime.transformations.hierarchical.aggregate import Aggregator\n",
    "\n",
    "Aggregator().fit_transform(y_hier)"
   ]
  },
  {
   "cell_type": "markdown",
   "metadata": {},
   "source": [
    "If used at the start of a pipeline, forecasts are made for node `__total`-s as well as individual instances.\n",
    "\n",
    "Note: in general, this does not result in a reconciled forecast, i.e., forecast totals will not add up."
   ]
  },
  {
   "cell_type": "code",
   "execution_count": null,
   "metadata": {},
   "outputs": [],
   "source": [
    "from sktime.forecasting.naive import NaiveForecaster\n",
    "\n",
    "pipeline_to_forecast_totals = Aggregator() * NaiveForecaster()\n",
    "\n",
    "pipeline_to_forecast_totals.fit(y_hier, fh=[1, 2])\n",
    "pipeline_to_forecast_totals.predict()"
   ]
  },
  {
   "cell_type": "markdown",
   "metadata": {},
   "source": [
    "If used at the end of a pipeline, forecasts are reconciled bottom-up.\n",
    "\n",
    "That will result in a reconciled forecast, although bottom-up may not be the method of choice."
   ]
  },
  {
   "cell_type": "code",
   "execution_count": null,
   "metadata": {},
   "outputs": [],
   "source": [
    "from sktime.forecasting.naive import NaiveForecaster\n",
    "\n",
    "pipeline_to_forecast_totals = NaiveForecaster() * Aggregator()\n",
    "\n",
    "pipeline_to_forecast_totals.fit(y_hier, fh=[1, 2])\n",
    "pipeline_to_forecast_totals.predict()"
   ]
  },
  {
   "cell_type": "code",
   "execution_count": null,
   "metadata": {},
   "outputs": [],
   "source": [
    "pipeline_to_forecast_totals"
   ]
  },
  {
   "cell_type": "markdown",
   "metadata": {},
   "source": [
    "#### Advanced reconciliation"
   ]
  },
  {
   "cell_type": "markdown",
   "metadata": {},
   "source": [
    "Fur transformer-like reconciliation, use the `Reconciler`.\n",
    "It supports advanced techniques such as OLS and WLS:"
   ]
  },
  {
   "cell_type": "code",
   "execution_count": null,
   "metadata": {},
   "outputs": [],
   "source": [
    "from sktime.transformations.hierarchical.reconcile import Reconciler\n",
    "\n",
    "pipeline_with_reconciliation = Aggregator() * NaiveForecaster() * Reconciler(method=\"ols\")"
   ]
  },
  {
   "cell_type": "code",
   "execution_count": null,
   "metadata": {},
   "outputs": [],
   "source": [
    "pipeline_to_forecast_totals.fit(y_hier, fh=[1, 2])\n",
    "pipeline_to_forecast_totals.predict()"
   ]
  },
  {
   "cell_type": "markdown",
   "metadata": {},
   "source": [
    "Roadmap items:\n",
    "\n",
    "* reconciliation of wrapper type\n",
    "* reconciliatoin & global forecasting\n",
    "* probabilistic reconciliation"
   ]
  }
 ],
 "metadata": {
  "kernelspec": {
   "display_name": "Python 3 (ipykernel)",
   "language": "python",
   "name": "python3"
  },
  "language_info": {
   "codemirror_mode": {
    "name": "ipython",
    "version": 3
   },
   "file_extension": ".py",
   "mimetype": "text/x-python",
   "name": "python",
   "nbconvert_exporter": "python",
   "pygments_lexer": "ipython3",
   "version": "3.8.12"
  }
 },
 "nbformat": 4,
 "nbformat_minor": 4
}
