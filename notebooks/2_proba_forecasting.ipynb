{
 "cells": [
  {
   "cell_type": "markdown",
   "id": "cubic-guest",
   "metadata": {},
   "source": [
    "# Probabilistic Forecasting with `sktime`\n",
    "\n",
    "Credits:"
   ]
  },
  {
   "cell_type": "markdown",
   "id": "2bf7ad11",
   "metadata": {},
   "source": [
    "### Overview of this notebook\n",
    "\n",
    "* quick start - probabilistic forecasting\n",
    "* disambiguation - types of probabilistic forecasts\n",
    "* details: probabilistic forecasting interfaces\n",
    "* metrics for, and evaluation of probabilistic forecasts\n",
    "* advanced composition: pipelines, tuning, reduction\n",
    "* extender guide\n"
   ]
  },
  {
   "cell_type": "markdown",
   "id": "6586a019",
   "metadata": {},
   "source": [
    "---\n",
    "### Quick Start - Probabilistic Forecasting with `sktime`\n",
    "\n",
    "... works exactly like the basic forecasting workflow, replace `predict` by a probabilistic method!"
   ]
  },
  {
   "cell_type": "code",
   "execution_count": null,
   "id": "painted-sullivan",
   "metadata": {},
   "outputs": [],
   "source": [
    "from sktime.datasets import load_airline\n",
    "from sktime.forecasting.arima import ARIMA\n",
    "from sktime.forecasting.base import ForecastingHorizon\n",
    "\n",
    "# step 1: data specification\n",
    "y = load_airline()\n",
    "# step 2: specifying forecasting horizon\n",
    "fh = [1, 2, 3]\n",
    "# step 3: specifying the forecasting algorithm\n",
    "forecaster = ARIMA()\n",
    "# step 4: fitting the forecaster\n",
    "forecaster.fit(y, fh=[1,2,3])\n",
    "# step 5: querying predictions\n",
    "y_pred = forecaster.predict()\n",
    "\n",
    "# for probabilistic forecasting:\n",
    "#   call a probabilistic forecasting method after or instead of step 5\n",
    "y_pred_int = forecaster.predict_interval(coverage=0.9)\n",
    "y_pred_int"
   ]
  },
  {
   "cell_type": "markdown",
   "id": "a864b9c1",
   "metadata": {},
   "source": [
    "**probabilistic forecasting methods in `sktime`**:\n",
    "\n",
    "* forecast intervals    - `predict_interval(fh=None, X=None, coverage=0.90)`\n",
    "* forecast quantiles    - `predict_quantiles(fh=None, X=None, alpha=[0.05, 0.95])`\n",
    "* forecast variance     - `predict_var(fh=None, X=None, cov=False)`\n",
    "* distribution forecast - `predict_proba(fh=None, X=None, marginal=True)`"
   ]
  },
  {
   "cell_type": "markdown",
   "id": "b57a3be0",
   "metadata": {},
   "source": [
    "To check which forecasters in `sktime` support probabilistic forecasting, use the `registry.all_estimators` utility and search for estimators which have the `capability:pred_int` tag (value `True`).\n",
    "\n",
    "For composites such as pipelines, a positive tag means that logic is implemented if (some or all) components support it."
   ]
  },
  {
   "cell_type": "code",
   "execution_count": null,
   "id": "a7490769",
   "metadata": {},
   "outputs": [],
   "source": [
    "from sktime.registry import all_estimators\n",
    "\n",
    "all_estimators(\"forecaster\", filter_tags={\"capability:pred_int\": True}, as_dataframe=True)"
   ]
  },
  {
   "cell_type": "markdown",
   "id": "impressive-deviation",
   "metadata": {},
   "source": [
    "---\n",
    "### What is probabilistic forecasting?\n",
    "\n",
    "todo: insert picture here\n",
    "\n",
    "#### Intuition\n",
    "\n",
    "* produce low/high scenarios of forecasts\n",
    "* quantify uncertainty around forecasts\n",
    "* produce expected range of variation of forecasts"
   ]
  },
  {
   "cell_type": "markdown",
   "id": "435f59bf",
   "metadata": {},
   "source": [
    "#### Interface view\n",
    "\n",
    "**Want** to produce \"distribution\" or \"range\" of forecast values,\n",
    "\n",
    "at time stamps defined by **forecasting horizon** `fh`\n",
    "\n",
    "given **past data** `y` (series), and possibly exogeneous data `X`\n",
    "\n",
    "Input, to `fit` or `predict`: `fh`, `y`, `X`\n",
    "\n",
    "Output, from `predict_probabilistic`: some \"distribution\" or \"range\" object"
   ]
  },
  {
   "cell_type": "markdown",
   "id": "5daec146",
   "metadata": {},
   "source": [
    "**Big caveat**: there are multiple possible ways to model \"distribution\" or \"range!\n",
    "\n",
    "Used in practice and easily confused! (and often, practically, confused!)"
   ]
  },
  {
   "cell_type": "markdown",
   "id": "a1c0f1dc",
   "metadata": {},
   "source": [
    "#### Formal view (endogeneous, one forecast time stamp)\n",
    "\n",
    "Let  $y(t_1), \\dots, y(t_n)$ be observations at fixed time stamps $t_1, \\dots, t_n$. \n",
    "\n",
    "(we consider $y$ as an $\\mathbb{R}^n$-valued random variable)\n",
    "\n",
    "Let $y'$ be a (true) value, which will be observed at a future time stamp $\\tau$.\n",
    "\n",
    "(we consider $y'$ as an $\\mathbb{R}$-valued random variable)\n",
    "\n",
    "We have the following \"types of forecasts\" of $y'$:\n",
    "\n",
    "| Name | param | prediction/estimate of | `sktime` |\n",
    "| ---- | ----- | ---------------------- | -------- |\n",
    "| point forecast | | conditional expectation $\\mathbb{E}[y'\\|y]$ | `predict` |\n",
    "| variance forecast | | conditional variance $Var[y'\\|y]$ | `predict_var` |\n",
    "| quantile forecast | $\\alpha\\in (0,1)$ | $\\alpha$-quantile of $y'\\|y$ | `predict_quantiles` |\n",
    "| interval forecast | $c\\in (0,1)$| $[a,b]$ s.t. $P(a\\le y' \\le b\\| y) = c$ | `predict_interval` |\n",
    "| distribution forecast | | the law/distribution of $y'\\|y$ | `predict_proba` |\n",
    "\n",
    "Notes:\n",
    "\n",
    "* different forecasters have different capabilities!\n",
    "* metrics, evaluation & tuning are different by \"type of forecast\"\n",
    "* compositors can \"add\" type of forecast! Example: bootstrap\n",
    "\n",
    "##### More formal details & intuition:\n",
    "\n",
    "* a \"point forecast\" is a prediction/estimate of the conditional expectation $\\mathbb{E}[y'|y]$. Intuition: \"out of many repetitions/worlds, this value is the arithmetic average of all observations\".\n",
    "* a \"variance forecast\" is a prediction/estimate of the conditional expectation $Var[y'|y]$. Intuition: \"out of many repetitions/worlds, this value is the average squared distance of the observation to the perfect point forecast\".\n",
    "* a \"quantile forecast\", at quantile point $\\alpha\\in (0,1)$ is a prediction/estimate of the $\\alpha$-quantile of $y'|y$, i.e., of $F^{-1}_{y'|y}(\\alpha)$, where $F^{-1}$ is the (generalized) inverse cdf = quantile function of the random variable y'|y. Intuition: \"out of many repetitions/worlds, a fraction of exactly $\\alpha$ will have equal or smaller than this value.\"\n",
    "* an \"interval forecast\" or \"predictive interval\" with (symmetric) coverage $c\\in (0,1)$ is a prediction/estimate pair of lower bound $a$ and upper bound $b$ such that $P(a\\le y' \\le b| y) = c$ and $P(y' \\gneq b| y) = P(y' \\lneq a| y) = (1 - c) /2$. Intuition: \"out of many repetitions/worlds, a fraction of exactly $c$ will be contained in the interval $[a,b]$, and being above is equally likely as being below\".\n",
    "* a \"distribution forecast\" or \"full probabilistic forecast\" is a prediction/estimate of the distribution of $y'|y$, e.g., \"it's a normal distribution with mean 42 and variance 1\". Intuition: exhaustive description of the generating mechanism of many repetitions/worlds."
   ]
  },
  {
   "cell_type": "markdown",
   "id": "425bccbe",
   "metadata": {},
   "source": [
    "Notes:\n",
    "\n",
    "* lower/upper of interval forecasts are quantile forecasts at quantile points $0.5 - c/2$ and $0.5 + c/2$ (as long as forecast distributions are absolutely continuous).\n",
    "* all other forecasts can be obtained from a full probabilistic forecasts; a full probabilistic forecast can be obtained from all quantile forecasts or all interval forecasts.\n",
    "* there is no exact relation between the other types of forecasts (point or variance vs quantile)\n",
    "* in particular, point forecast does not need to be median forecast aka 0.5-quantile forecast. Can be $\\alpha$-quantile for any $\\alpha$!"
   ]
  },
  {
   "cell_type": "markdown",
   "id": "7f5b10b6",
   "metadata": {},
   "source": [
    "Frequent confusion in literature & python packages:\n",
    "* coverage `c` vs quantile `\\alpha`\n",
    "* coverage `c` vs significance `p = 1-c`\n",
    "* quantile of lower interval bound, `p/2`, vs `p`\n",
    "* interval forecasts vs related, but substantially different concepts: confidence interval on predictive mean; Bayesian posterior or credibility interval of the predictive mean\n",
    "* all forecasts above can be Bayesian, confusion: \"posteriors are different\" or \"have to be evaluted differently\""
   ]
  },
  {
   "cell_type": "markdown",
   "id": "4d944c96",
   "metadata": {},
   "source": [
    "---\n",
    "### Probabilistic forecasting interfaces in `sktime` \n",
    "\n",
    "This section:\n",
    "\n",
    "* walkthrough of probabilistic predict methods\n",
    "* use in update/predict workflow\n",
    "* multivariate and hierarchical data\n",
    "\n",
    "All forecasters with tag `capability:pred_int` provide the following:\n",
    "\n",
    "* forecast intervals    - `predict_interval(fh=None, X=None, coverage=0.90)`\n",
    "* forecast quantiles    - `predict_quantiles(fh=None, X=None, alpha=[0.05, 0.95])`\n",
    "* forecast variance     - `predict_var(fh=None, X=None, cov=False)`\n",
    "* distribution forecast - `predict_proba(fh=None, X=None, marginal=True)`\n",
    "\n",
    "Generalities:\n",
    "\n",
    "* methods do not change state, multiple can be called\n",
    "* `fh` is optional, if passed late\n",
    "* exogeneous data `X` can be passed"
   ]
  },
  {
   "cell_type": "code",
   "execution_count": null,
   "id": "85f32fff",
   "metadata": {},
   "outputs": [],
   "source": [
    "import numpy as np\n",
    "\n",
    "from sktime.datasets import load_airline\n",
    "from sktime.forecasting.theta import ThetaForecaster\n",
    "\n",
    "# until fit, identical with the simple workflow\n",
    "y = load_airline()\n",
    "\n",
    "fh = np.arange(1, 13)\n",
    "\n",
    "forecaster = ThetaForecaster(sp=12)\n",
    "forecaster.fit(y, fh=fh)"
   ]
  },
  {
   "cell_type": "markdown",
   "id": "52ff10e6",
   "metadata": {},
   "source": [
    "##### `predict_interval` - interval predictions"
   ]
  },
  {
   "cell_type": "markdown",
   "id": "4995fbc2",
   "metadata": {},
   "source": [
    "Inputs:\\\n",
    "`coverage`, float or list of floats\\\n",
    "nominal coverage(s) of the prediction interval(s) queried\n",
    "\n",
    "Output: `pandas.DataFrame`\\\n",
    "Row index is fh\\\n",
    "Column has multi-index:\\\n",
    "1st level = variable name from y in fit\\\n",
    "2nd level = coverage fractions in `coverage`\\\n",
    "3rd level = string \"lower\" or \"upper\"\\\n",
    "\n",
    "Entries = forecasts of lower/upper interval at nominal coverage in 2nd lvl, for var in 1st lvl"
   ]
  },
  {
   "cell_type": "code",
   "execution_count": null,
   "id": "f81bcc0c",
   "metadata": {},
   "outputs": [],
   "source": [
    "coverage = 0.9\n",
    "y_pred_ints = forecaster.predict_interval(coverage=coverage)\n",
    "y_pred_ints"
   ]
  },
  {
   "cell_type": "markdown",
   "id": "3f9f840e",
   "metadata": {},
   "source": [
    "pretty-plotting the predictive interval forecasts:"
   ]
  },
  {
   "cell_type": "code",
   "execution_count": null,
   "id": "efa4f7a6",
   "metadata": {},
   "outputs": [],
   "source": [
    "from sktime.utils import plotting\n",
    "\n",
    "# also requires predictions\n",
    "y_pred = forecaster.predict()\n",
    "\n",
    "fig, ax = plotting.plot_series(y, y_pred, labels=[\"y\", \"y_pred\"])\n",
    "ax.fill_between(\n",
    "    ax.get_lines()[-1].get_xdata(),\n",
    "    y_pred_ints[\"Coverage\"][coverage][\"lower\"],\n",
    "    y_pred_ints[\"Coverage\"][coverage][\"upper\"],\n",
    "    alpha=0.2,\n",
    "    color=ax.get_lines()[-1].get_c(),\n",
    "    label=f\"{coverage} cov.pred.intervals\",\n",
    ")\n",
    "ax.legend();"
   ]
  },
  {
   "cell_type": "markdown",
   "id": "3afcdc20",
   "metadata": {},
   "source": [
    "multiple coverages:"
   ]
  },
  {
   "cell_type": "code",
   "execution_count": null,
   "id": "534f4490",
   "metadata": {},
   "outputs": [],
   "source": [
    "coverage = [0.5, 0.9, 0.95]\n",
    "y_pred_ints = forecaster.predict_interval(coverage=coverage)\n",
    "y_pred_ints"
   ]
  },
  {
   "cell_type": "markdown",
   "id": "d00f1db2",
   "metadata": {},
   "source": [
    "##### `predict_quantiles` - quantile forecasts"
   ]
  },
  {
   "cell_type": "markdown",
   "id": "9468c5f4",
   "metadata": {},
   "source": [
    "Inputs:\\\n",
    "`alpha`, float or list of floats\\\n",
    "quantile points at which quantiles are queried\n",
    "\n",
    "Output: `pandas.DataFrame`\\\n",
    "Row index is fh\\\n",
    "Column has multi-index:\\\n",
    "1st level = variable name from y in fit\\\n",
    "2nd level = quantile points in `alpha`\\\n",
    "\n",
    "Entries = forecasts of quantiles at quantile point in 2nd lvl, for var in 1st lvl"
   ]
  },
  {
   "cell_type": "code",
   "execution_count": null,
   "id": "76770945",
   "metadata": {},
   "outputs": [],
   "source": [
    "alpha = [0.1, 0.25, 0.5, 0.75, 0.9]\n",
    "y_pred_quantiles = forecaster.predict_quantiles(alpha=alpha)\n",
    "y_pred_quantiles"
   ]
  },
  {
   "cell_type": "markdown",
   "id": "ef0fb2b9",
   "metadata": {},
   "source": [
    "pretty-plotting the quantile interval forecasts:"
   ]
  },
  {
   "cell_type": "code",
   "execution_count": null,
   "id": "00f9cb39",
   "metadata": {},
   "outputs": [],
   "source": [
    "from sktime.utils import plotting\n",
    "\n",
    "_, columns = zip(*y_pred_quantiles.iteritems())\n",
    "fig, ax = plotting.plot_series(y[-50:], *columns)\n"
   ]
  },
  {
   "cell_type": "markdown",
   "id": "3dd5fd21",
   "metadata": {},
   "source": [
    "#### Using probabilistic forecasts with update/predict stream workflow"
   ]
  },
  {
   "cell_type": "markdown",
   "id": "1bf857cd",
   "metadata": {},
   "source": [
    "#"
   ]
  },
  {
   "cell_type": "markdown",
   "id": "da797a68",
   "metadata": {},
   "source": [
    "#### Probabilistic forecasting for multivariate and hierarchical data"
   ]
  },
  {
   "cell_type": "markdown",
   "id": "illegal-legend",
   "metadata": {},
   "source": [
    "---\n",
    "### Metrics for probabilistic forecasts and evaluation\n"
   ]
  },
  {
   "cell_type": "markdown",
   "id": "1f8cb021",
   "metadata": {},
   "source": [
    "#### overview - theory\n",
    "\n",
    "Predicted `y` has different form from true `y`, so metrics have form\n",
    "\n",
    "`metric(y_true: series, y_pred: proba_prediction) -> float`\n",
    "\n",
    "where `proba_prediction` is the type of the specific \"probabilistic prediction type\".\n",
    "\n",
    "I.e., we have the following function signature for a loss/metric $L$:\n",
    "\n",
    "| Name | param | prediction/estimate of | general form |\n",
    "| ---- | ----- | ---------------------- | -------- |\n",
    "| point forecast | | conditional expectation $\\mathbb{E}[y'\\|y]$ | `metric(y_true, y_pred)` |\n",
    "| variance forecast | | conditional variance $Var[y'\\|y]$ | `metric(y_pred, y_pt, y_var)` (requires point forecast too) |\n",
    "| quantile forecast | $\\alpha\\in (0,1)$ | $\\alpha$-quantile of $y'\\|y$ | `metric(y_true, y_quantiles, alpha)` |\n",
    "| interval forecast | $c\\in (0,1)$| $[a,b]$ s.t. $P(a\\le y' \\le b\\| y) = c$ | `metric(y_true, y_interval, c)` |\n",
    "| distribution forecast | | the law/distribution of $y'\\|y$ | `metric(y_true, y_distribution)` |\n"
   ]
  },
  {
   "cell_type": "markdown",
   "id": "6c20bd6e",
   "metadata": {},
   "source": [
    "#### evaluation of probabilistic forecasters"
   ]
  },
  {
   "cell_type": "code",
   "execution_count": null,
   "id": "induced-shakespeare",
   "metadata": {},
   "outputs": [],
   "source": [
    "from sktime.performance_metrics.forecasting import \\\n",
    "    mean_absolute_percentage_error\n",
    "\n",
    "mean_absolute_percentage_error(y_test, y_pred, symmetric=False)"
   ]
  },
  {
   "cell_type": "markdown",
   "id": "public-union",
   "metadata": {},
   "source": [
    "---\n",
    "### Advanced composition: pipelines, tuning, reduction, adding proba forecasts to any estimator\n"
   ]
  },
  {
   "cell_type": "markdown",
   "id": "sized-jewel",
   "metadata": {},
   "source": [
    "#### Data specification"
   ]
  },
  {
   "cell_type": "code",
   "execution_count": null,
   "id": "permanent-kuwait",
   "metadata": {},
   "outputs": [],
   "source": [
    "from sktime.forecasting.ets import AutoETS"
   ]
  },
  {
   "cell_type": "markdown",
   "id": "fuzzy-breeding",
   "metadata": {},
   "source": [
    "#### Task specification"
   ]
  },
  {
   "cell_type": "code",
   "execution_count": null,
   "id": "adaptive-isaac",
   "metadata": {},
   "outputs": [],
   "source": [
    "# specifying the forecasting horizon: one year ahead, all months\n",
    "fh = np.arange(1, 13)\n",
    "fh"
   ]
  },
  {
   "cell_type": "code",
   "execution_count": null,
   "id": "treated-cleanup",
   "metadata": {},
   "outputs": [],
   "source": [
    "#  in December 1975\n",
    "# this is the data known in December 1975\n",
    "y_train = y.loc[:\"1957-08\"]\n",
    "y_observed = y_train.copy()\n",
    "y_observed.tail()"
   ]
  },
  {
   "cell_type": "markdown",
   "id": "accompanied-partition",
   "metadata": {},
   "source": [
    "#### Model specification"
   ]
  },
  {
   "cell_type": "code",
   "execution_count": null,
   "id": "durable-impact",
   "metadata": {},
   "outputs": [],
   "source": [
    "# specifying the model\n",
    "forecaster = AutoETS(auto=True, sp=12, n_jobs=-1)"
   ]
  },
  {
   "cell_type": "markdown",
   "id": "acceptable-greenhouse",
   "metadata": {},
   "source": [
    "#### Fitting"
   ]
  },
  {
   "cell_type": "code",
   "execution_count": null,
   "id": "chicken-calculator",
   "metadata": {},
   "outputs": [],
   "source": [
    "# fit\n",
    "forecaster.fit(y_train)"
   ]
  },
  {
   "cell_type": "markdown",
   "id": "numerous-breathing",
   "metadata": {},
   "source": [
    "#### Prediction"
   ]
  },
  {
   "cell_type": "code",
   "execution_count": null,
   "id": "b61f7682-ded4-4888-a3ca-e913658773a4",
   "metadata": {},
   "outputs": [],
   "source": [
    "y_pred"
   ]
  },
  {
   "cell_type": "markdown",
   "id": "dense-damages",
   "metadata": {},
   "source": [
    "#### Observe new data"
   ]
  },
  {
   "cell_type": "code",
   "execution_count": null,
   "id": "sporting-cylinder",
   "metadata": {},
   "outputs": [],
   "source": [
    "y_observed = y.loc[:\"1957-09\"]\n",
    "new_data = y.loc[[\"1957-09\"]]\n",
    "new_data"
   ]
  },
  {
   "cell_type": "markdown",
   "id": "important-chrome",
   "metadata": {},
   "source": [
    "#### Update"
   ]
  },
  {
   "cell_type": "code",
   "execution_count": null,
   "id": "deadly-potter",
   "metadata": {},
   "outputs": [],
   "source": [
    "forecaster.update(new_data)"
   ]
  },
  {
   "cell_type": "markdown",
   "id": "forbidden-opera",
   "metadata": {},
   "source": [
    "#### Predict again"
   ]
  },
  {
   "cell_type": "code",
   "execution_count": null,
   "id": "8944667f-88a2-43e2-b63d-0590935a837f",
   "metadata": {},
   "outputs": [],
   "source": [
    "y_pred"
   ]
  },
  {
   "cell_type": "markdown",
   "id": "virtual-market",
   "metadata": {},
   "source": [
    "#### Understanding update\n"
   ]
  },
  {
   "cell_type": "code",
   "execution_count": null,
   "id": "earned-lunch",
   "metadata": {},
   "outputs": [],
   "source": [
    "forecaster.update?"
   ]
  },
  {
   "cell_type": "markdown",
   "id": "beginning-invention",
   "metadata": {},
   "source": [
    "### Automating the process"
   ]
  },
  {
   "cell_type": "code",
   "execution_count": null,
   "id": "beginning-breath",
   "metadata": {},
   "outputs": [],
   "source": [
    "from sktime.forecasting.model_evaluation import evaluate\n",
    "from sktime.forecasting.model_selection import ExpandingWindowSplitter\n",
    "from utils import plot_windows"
   ]
  },
  {
   "cell_type": "code",
   "execution_count": null,
   "id": "engaging-narrow",
   "metadata": {},
   "outputs": [],
   "source": [
    "y = load_airline()\n",
    "fh = ForecastingHorizon(np.arange(12) + 1)\n",
    "y_train, y_test = temporal_train_test_split(y, fh=fh)"
   ]
  },
  {
   "cell_type": "markdown",
   "id": "front-yeast",
   "metadata": {},
   "source": [
    "#### Temporal cross-validation"
   ]
  },
  {
   "cell_type": "markdown",
   "id": "heard-mistake",
   "metadata": {},
   "source": [
    "Check out alternative cross-validation schemes: https://github.com/alan-turing-institute/sktime/blob/main/examples/window_splitters.ipynb"
   ]
  },
  {
   "cell_type": "markdown",
   "id": "gothic-instruction",
   "metadata": {},
   "source": [
    "#### Backtesting: Evaluation using temporal cross-validaton"
   ]
  },
  {
   "cell_type": "code",
   "execution_count": null,
   "id": "unnecessary-sample",
   "metadata": {},
   "outputs": [],
   "source": [
    "forecaster = NaiveForecaster(strategy=\"last\", sp=12)\n",
    "cv = ExpandingWindowSplitter(step_length=12, fh=fh, initial_window=72)\n",
    "results = evaluate(\n",
    "    forecaster=forecaster, y=y, cv=cv, strategy=\"refit\", return_data=True\n",
    ")\n",
    "results.iloc[:, :5].head()"
   ]
  },
  {
   "cell_type": "markdown",
   "id": "fresh-oracle",
   "metadata": {},
   "source": [
    "### Advanced model building & composition"
   ]
  },
  {
   "cell_type": "markdown",
   "id": "outstanding-campus",
   "metadata": {},
   "source": [
    "#### Tuning"
   ]
  },
  {
   "cell_type": "code",
   "execution_count": null,
   "id": "difficult-belarus",
   "metadata": {},
   "outputs": [],
   "source": [
    "from sktime.forecasting.model_selection import (ForecastingGridSearchCV,\n",
    "                                                SlidingWindowSplitter)\n",
    "\n",
    "param_grid = {\"window_length\": [9, 12, 15], \"estimator__n_neighbors\": np.arange(1, 10)}\n",
    "\n",
    "regressor = KNeighborsRegressor()\n",
    "forecaster = make_reduction(regressor, strategy=\"recursive\")\n",
    "\n",
    "cv = SlidingWindowSplitter(window_length=60, fh=fh)\n",
    "gscv = ForecastingGridSearchCV(\n",
    "    forecaster, cv=cv, param_grid=param_grid, strategy=\"refit\"\n",
    ")"
   ]
  },
  {
   "cell_type": "code",
   "execution_count": null,
   "id": "comparative-sampling",
   "metadata": {},
   "outputs": [],
   "source": [
    "gscv.best_params_"
   ]
  },
  {
   "cell_type": "markdown",
   "id": "varied-clone",
   "metadata": {},
   "source": [
    "#### Tuning and AutoML "
   ]
  },
  {
   "cell_type": "code",
   "execution_count": null,
   "id": "differential-growth",
   "metadata": {},
   "outputs": [],
   "source": [
    "from sktime.forecasting.compose import MultiplexForecaster\n",
    "from sktime.forecasting.exp_smoothing import ExponentialSmoothing\n",
    "from sktime.forecasting.naive import NaiveForecaster\n",
    "\n",
    "forecaster = MultiplexForecaster(\n",
    "    forecasters=[\n",
    "        (\"naive\", NaiveForecaster(strategy=\"last\")),\n",
    "        (\"ets\", ExponentialSmoothing(trend=\"add\", sp=12)),\n",
    "    ],\n",
    ")\n",
    "\n",
    "forecaster_param_grid = {\"selected_forecaster\": [\"ets\", \"naive\"]}\n",
    "gscv = ForecastingGridSearchCV(forecaster, cv=cv, param_grid=forecaster_param_grid)\n",
    "\n",
    "gscv.fit(y_train)\n",
    "gscv.best_params_"
   ]
  },
  {
   "cell_type": "markdown",
   "id": "severe-belize",
   "metadata": {},
   "source": [
    "#### Pipelining"
   ]
  },
  {
   "cell_type": "code",
   "execution_count": null,
   "id": "behavioral-anger",
   "metadata": {},
   "outputs": [],
   "source": [
    "from sktime.forecasting.compose import TransformedTargetForecaster\n",
    "from sktime.forecasting.trend import PolynomialTrendForecaster\n",
    "from sktime.transformations.series.detrend import Deseasonalizer, Detrender"
   ]
  },
  {
   "cell_type": "code",
   "execution_count": null,
   "id": "underlying-australia",
   "metadata": {},
   "outputs": [],
   "source": [
    "regressor = KNeighborsRegressor()\n",
    "forecaster = make_reduction(regressor, strategy=\"recursive\")\n",
    "\n",
    "forecaster = TransformedTargetForecaster(\n",
    "    [\n",
    "        (\"deseasonalize\", Deseasonalizer(sp=12)),\n",
    "        (\"detrend\", Detrender()),\n",
    "        (\"forecast\", forecaster),\n",
    "    ]\n",
    ")\n",
    "\n",
    "forecaster.fit(y_train)\n",
    "y_pred = forecaster.predict(fh)"
   ]
  },
  {
   "cell_type": "markdown",
   "id": "incredible-relation",
   "metadata": {},
   "source": [
    "### Pipelining with exogenous data"
   ]
  },
  {
   "cell_type": "code",
   "execution_count": null,
   "id": "incomplete-spiritual",
   "metadata": {},
   "outputs": [],
   "source": [
    "from sklearn.preprocessing import MinMaxScaler, PowerTransformer\n",
    "from sktime.datasets import load_macroeconomic\n",
    "from sktime.forecasting.compose import ForecastingPipeline\n",
    "from sktime.transformations.series.adapt import TabularToSeriesAdaptor\n",
    "from sktime.transformations.series.impute import Imputer"
   ]
  },
  {
   "cell_type": "code",
   "execution_count": null,
   "id": "inappropriate-trainer",
   "metadata": {},
   "outputs": [],
   "source": [
    "data = load_macroeconomic()\n",
    "y = data[\"unemp\"]\n",
    "X = data.drop(columns=[\"unemp\"])"
   ]
  },
  {
   "cell_type": "code",
   "execution_count": null,
   "id": "paperback-contrary",
   "metadata": {},
   "outputs": [],
   "source": [
    "y_train, y_test, X_train, X_test = temporal_train_test_split(y, X)\n",
    "fh = ForecastingHorizon(y_test.index, is_relative=False)"
   ]
  },
  {
   "cell_type": "code",
   "execution_count": null,
   "id": "hazardous-television",
   "metadata": {},
   "outputs": [],
   "source": [
    "forecaster = ForecastingPipeline(\n",
    "    steps=[\n",
    "        (\"imputer\", Imputer(method=\"mean\")),\n",
    "        (\"scale\", TabularToSeriesAdaptor(MinMaxScaler(feature_range=(1, 2)))),\n",
    "        (\"boxcox\", TabularToSeriesAdaptor(PowerTransformer(method=\"box-cox\"))),\n",
    "        (\"forecaster\", AutoARIMA(suppress_warnings=True)),\n",
    "    ]\n",
    ")\n",
    "forecaster.fit(y=y_train, X=X_train)\n",
    "y_pred = forecaster.predict(fh=fh, X=X_test)\n",
    "\n",
    "plot_series(y_train, y_pred, y_test, labels=[\"y_train\", \"y_pred\", \"y_test\"])"
   ]
  },
  {
   "cell_type": "code",
   "execution_count": null,
   "id": "optimum-demographic",
   "metadata": {},
   "outputs": [],
   "source": [
    "from sktime.forecasting.var import VAR\n",
    "\n",
    "forecaster = VAR()\n",
    "forecaster.fit(y_train)\n",
    "y_pred = forecaster.predict(fh)\n",
    "y_pred.head()"
   ]
  },
  {
   "cell_type": "markdown",
   "id": "yellow-guarantee",
   "metadata": {},
   "source": [
    "---\n",
    "## Building your own forecaster\n",
    "\n",
    "Check out our [forecasting extension template](https://github.com/alan-turing-institute/sktime/blob/main/extension_templates/forecasting.py)!\n",
    "\n",
    "This is a Python file with to-do code blocks that allow you to implement your own, sktime-compatible forecasting algorithm.\n"
   ]
  },
  {
   "cell_type": "markdown",
   "id": "sunrise-eleven",
   "metadata": {},
   "source": [
    "---\n",
    "## Summary"
   ]
  },
  {
   "cell_type": "markdown",
   "id": "imperial-narrow",
   "metadata": {},
   "source": [
    "* unified API for univariate & multivariate forecasting \n",
    "* integrating other packages (e.g. scikit-learn, statsmodels, pmdarima, prophet)\n",
    "* composite model building (pipelining, ensembling, tuning, reduction)\n",
    "* easily extendible\n",
    "\n",
    "#### Useful resources\n",
    "* For more details, take a look at [our paper on forecasting with sktime](https://arxiv.org/abs/2005.08067) in which we discuss the forecasting API in more detail and use it to replicate and extend the M4 study.\n",
    "* For a good introduction to forecasting, see [Hyndman, Rob J., and George Athanasopoulos. Forecasting: principles and practice. OTexts, 2018](https://otexts.com/fpp2/).\n",
    "* For comparative benchmarking studies/forecasting competitions, see the [M4 competition](https://www.sciencedirect.com/science/article/pii/S0169207019301128) and the [M5 competition](https://www.kaggle.com/c/m5-forecasting-accuracy/overview).\n"
   ]
  },
  {
   "cell_type": "code",
   "execution_count": null,
   "id": "adjacent-assumption",
   "metadata": {},
   "outputs": [],
   "source": []
  }
 ],
 "metadata": {
  "kernelspec": {
   "display_name": "Python 3 (ipykernel)",
   "language": "python",
   "name": "python3"
  },
  "language_info": {
   "codemirror_mode": {
    "name": "ipython",
    "version": 3
   },
   "file_extension": ".py",
   "mimetype": "text/x-python",
   "name": "python",
   "nbconvert_exporter": "python",
   "pygments_lexer": "ipython3",
   "version": "3.8.12"
  }
 },
 "nbformat": 4,
 "nbformat_minor": 5
}
